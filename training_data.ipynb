{
  "nbformat": 4,
  "nbformat_minor": 0,
  "metadata": {
    "kernelspec": {
      "display_name": "Python 3",
      "language": "python",
      "name": "python3"
    },
    "language_info": {
      "codemirror_mode": {
        "name": "ipython",
        "version": 3
      },
      "file_extension": ".py",
      "mimetype": "text/x-python",
      "name": "python",
      "nbconvert_exporter": "python",
      "pygments_lexer": "ipython3",
      "version": "3.7.3"
    },
    "colab": {
      "name": "training_data.ipynb",
      "provenance": [],
      "collapsed_sections": []
    }
  },
  "cells": [
    {
      "cell_type": "code",
      "metadata": {
        "id": "dU9vA2Smn6um",
        "colab_type": "code",
        "colab": {}
      },
      "source": [
        "import csv\n",
        "import sys\n",
        "import os\n",
        "import re\n",
        "import math"
      ],
      "execution_count": 0,
      "outputs": []
    },
    {
      "cell_type": "code",
      "metadata": {
        "id": "4rzCX7bRplqd",
        "colab_type": "code",
        "outputId": "289e0e68-92fb-4a2e-9aa3-80624e06dec2",
        "colab": {
          "base_uri": "https://localhost:8080/",
          "height": 50
        }
      },
      "source": [
        "# Convert comma-delimited CSV files to tab-delimited files\n",
        "# Usage: Drag-and-drop CSV file over script to convert it.\n",
        "\n",
        "inputPath = \"data/dataset.csv\"\n",
        "outputPath = \"data/dataset.txt\"\n",
        "\n",
        "# https://stackoverflow.com/a/27553098/3357935\n",
        "print(\"Converting CSV to tab-delimited file...\")\n",
        "with open(inputPath) as inputFile:\n",
        "\tnext(inputFile)\n",
        "\twith open(outputPath, 'w', newline='') as outputFile:\n",
        "\t\treader = csv.DictReader(inputFile, delimiter=',')\n",
        "\t\twriter = csv.DictWriter(outputFile, reader.fieldnames, delimiter='\\t')\n",
        "\t\twriter.writeheader()\n",
        "\t\twriter.writerows(reader)\n",
        "print(\"Conversion complete.\")"
      ],
      "execution_count": 2,
      "outputs": [
        {
          "output_type": "stream",
          "text": [
            "Converting CSV to tab-delimited file...\n",
            "Conversion complete.\n"
          ],
          "name": "stdout"
        }
      ]
    },
    {
      "cell_type": "code",
      "metadata": {
        "id": "lyPL_xbGDqQL",
        "colab_type": "code",
        "colab": {}
      },
      "source": [
        "# automate getting number of sentences\n",
        "\n",
        "train = open(\"data/train.txt\", 'w')\n",
        "test = open(\"data/test.txt\", 'w')\n",
        "dev = open(\"data/dev.txt\", 'w')\n",
        "\n",
        "sentence_regex = re.compile(\"^(Sentence: )\\d+\")\n",
        "\n",
        "dataset = open(\"data/dataset.txt\")\n",
        "\n",
        "no_sentences = 42097\n",
        "\n",
        "sent_no = 0 #Sentence number from file\n",
        "train_end = math.floor(no_sentences*0.8)\n",
        "test_end = train_end + math.floor(no_sentences*0.2)\n",
        "\n",
        "for line in dataset.readlines():\n",
        "  if len(line) != 3:\n",
        "    sentence_search = sentence_regex.search(line)\n",
        "    sent_no = int(sentence_search.group(0)[9:])\n",
        "  if sent_no < train_end:\n",
        "    train.write(line)\n",
        "  elif sent_no < test_end:\n",
        "    test.write(line)\n",
        "  else:\n",
        "    dev.write(line)\n",
        "\n",
        "dataset.close()\n",
        "train.close()\n",
        "test.close()\n",
        "dev.close()"
      ],
      "execution_count": 0,
      "outputs": []
    },
    {
      "cell_type": "code",
      "metadata": {
        "id": "BhrYuax1n71j",
        "colab_type": "code",
        "colab": {}
      },
      "source": [
        ""
      ],
      "execution_count": 0,
      "outputs": []
    },
    {
      "cell_type": "code",
      "metadata": {
        "id": "ZmV1m7xaW9XM",
        "colab_type": "code",
        "colab": {}
      },
      "source": [
        ""
      ],
      "execution_count": 0,
      "outputs": []
    }
  ]
}