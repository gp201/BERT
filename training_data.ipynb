{
  "nbformat": 4,
  "nbformat_minor": 0,
  "metadata": {
    "kernelspec": {
      "display_name": "Python 3",
      "language": "python",
      "name": "python3"
    },
    "language_info": {
      "codemirror_mode": {
        "name": "ipython",
        "version": 3
      },
      "file_extension": ".py",
      "mimetype": "text/x-python",
      "name": "python",
      "nbconvert_exporter": "python",
      "pygments_lexer": "ipython3",
      "version": "3.7.3"
    },
    "colab": {
      "name": "training_data.ipynb",
      "provenance": [],
      "collapsed_sections": [],
      "include_colab_link": true
    }
  },
  "cells": [
    {
      "cell_type": "markdown",
      "metadata": {
        "id": "view-in-github",
        "colab_type": "text"
      },
      "source": [
        "<a href=\"https://colab.research.google.com/github/gp201/BERT/blob/master/training_data.ipynb\" target=\"_parent\"><img src=\"https://colab.research.google.com/assets/colab-badge.svg\" alt=\"Open In Colab\"/></a>"
      ]
    },
    {
      "cell_type": "code",
      "metadata": {
        "id": "4rzCX7bRplqd",
        "colab_type": "code",
        "outputId": "55432a2a-303b-49ce-a0c7-27ae009a7c15",
        "colab": {
          "base_uri": "https://localhost:8080/",
          "height": 50
        }
      },
      "source": [
        "import csv\n",
        "import sys\n",
        "import os\n",
        "import re\n",
        "import math\n",
        "\n",
        "# Convert comma-delimited CSV files to tab-delimited files\n",
        "# Usage: Drag-and-drop CSV file over script to convert it.\n",
        "\n",
        "inputPath = \"dataset.csv\"\n",
        "outputPath = \"dataset.txt\"\n",
        "\n",
        "# https://stackoverflow.com/a/27553098/3357935\n",
        "print(\"Converting CSV to tab-delimited file...\")\n",
        "with open(inputPath) as inputFile:\n",
        "\tnext(inputFile)\n",
        "\twith open(outputPath, 'w', newline='') as outputFile:\n",
        "\t\treader = csv.DictReader(inputFile, delimiter=',')\n",
        "\t\twriter = csv.DictWriter(outputFile, reader.fieldnames, delimiter='\\t')\n",
        "\t\twriter.writeheader()\n",
        "\t\twriter.writerows(reader)\n",
        "print(\"Conversion complete.\")"
      ],
      "execution_count": 39,
      "outputs": [
        {
          "output_type": "stream",
          "text": [
            "Converting CSV to tab-delimited file...\n",
            "Conversion complete.\n"
          ],
          "name": "stdout"
        }
      ]
    },
    {
      "cell_type": "code",
      "metadata": {
        "id": "lyPL_xbGDqQL",
        "colab_type": "code",
        "colab": {}
      },
      "source": [
        "# automate getting number of sentences\n",
        "\n",
        "train = open(\"train.txt\", 'w')\n",
        "test = open(\"test.txt\", 'w')\n",
        "dev = open(\"dev.txt\", 'w')\n",
        "\n",
        "sentence_regex = re.compile(\"^(Sentence: )\\d+\")\n",
        "\n",
        "dataset = open(\"dataset.txt\")\n",
        "\n",
        "no_sentences = 42097\n",
        "\n",
        "sent_no = 0 #Sentence number from file\n",
        "train_end = math.floor(no_sentences*0.7)\n",
        "test_end = train_end + math.floor(no_sentences*0.2)\n",
        "\n",
        "for line in dataset.readlines():\n",
        "  if len(line) != 3:\n",
        "    sentence_search = sentence_regex.search(line)\n",
        "    sent_no = int(sentence_search.group(0)[9:])\n",
        "  if sent_no < train_end:\n",
        "    train.write(line)\n",
        "  elif sent_no < test_end:\n",
        "    test.write(line)\n",
        "  else:\n",
        "    dev.write(line)\n",
        "\n",
        "dataset.close()\n",
        "train.close()\n",
        "test.close()\n",
        "dev.close()"
      ],
      "execution_count": 0,
      "outputs": []
    }
  ]
}