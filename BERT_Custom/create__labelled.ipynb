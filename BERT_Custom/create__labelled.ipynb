{
  "nbformat": 4,
  "nbformat_minor": 0,
  "metadata": {
    "colab": {
      "name": "create _labelled.ipynb",
      "provenance": [],
      "collapsed_sections": []
    },
    "kernelspec": {
      "name": "python3",
      "display_name": "Python 3"
    },
    "widgets": {
      "application/vnd.jupyter.widget-state+json": {
        "d9f3e7a3e74247eba0f0103525d32109": {
          "model_module": "@jupyter-widgets/controls",
          "model_name": "HBoxModel",
          "state": {
            "_view_name": "HBoxView",
            "_dom_classes": [],
            "_model_name": "HBoxModel",
            "_view_module": "@jupyter-widgets/controls",
            "_model_module_version": "1.5.0",
            "_view_count": null,
            "_view_module_version": "1.5.0",
            "box_style": "",
            "layout": "IPY_MODEL_eef57a211ca24ab7beac249fedb44130",
            "_model_module": "@jupyter-widgets/controls",
            "children": [
              "IPY_MODEL_8b78dc8309cf4b249ef5712d2a80b213",
              "IPY_MODEL_e9a8bb2dbfb04ce2a56b4abace98da9c"
            ]
          }
        },
        "eef57a211ca24ab7beac249fedb44130": {
          "model_module": "@jupyter-widgets/base",
          "model_name": "LayoutModel",
          "state": {
            "_view_name": "LayoutView",
            "grid_template_rows": null,
            "right": null,
            "justify_content": null,
            "_view_module": "@jupyter-widgets/base",
            "overflow": null,
            "_model_module_version": "1.2.0",
            "_view_count": null,
            "flex_flow": "row wrap",
            "width": "700px",
            "min_width": null,
            "border": null,
            "align_items": null,
            "bottom": null,
            "_model_module": "@jupyter-widgets/base",
            "top": null,
            "grid_column": null,
            "overflow_y": null,
            "overflow_x": null,
            "grid_auto_flow": null,
            "grid_area": null,
            "grid_template_columns": null,
            "flex": null,
            "_model_name": "LayoutModel",
            "justify_items": null,
            "grid_row": null,
            "max_height": null,
            "align_content": null,
            "visibility": null,
            "align_self": null,
            "height": null,
            "min_height": null,
            "padding": null,
            "grid_auto_rows": null,
            "grid_gap": null,
            "max_width": null,
            "order": null,
            "_view_module_version": "1.2.0",
            "grid_template_areas": null,
            "object_position": null,
            "object_fit": null,
            "grid_auto_columns": null,
            "margin": null,
            "display": "inline-flex",
            "left": null
          }
        },
        "8b78dc8309cf4b249ef5712d2a80b213": {
          "model_module": "@jupyter-widgets/controls",
          "model_name": "IntProgressModel",
          "state": {
            "_view_name": "ProgressView",
            "style": "IPY_MODEL_cebbf212e09449c08c0733985298b0b9",
            "_dom_classes": [],
            "description": "Abstract: 100%",
            "_model_name": "IntProgressModel",
            "bar_style": "danger",
            "max": 365672,
            "_view_module": "@jupyter-widgets/controls",
            "_model_module_version": "1.5.0",
            "value": 365577,
            "_view_count": null,
            "_view_module_version": "1.5.0",
            "orientation": "horizontal",
            "min": 0,
            "description_tooltip": null,
            "_model_module": "@jupyter-widgets/controls",
            "layout": "IPY_MODEL_761a35ff94634d99a443d41307659e38"
          }
        },
        "e9a8bb2dbfb04ce2a56b4abace98da9c": {
          "model_module": "@jupyter-widgets/controls",
          "model_name": "HTMLModel",
          "state": {
            "_view_name": "HTMLView",
            "style": "IPY_MODEL_b9ecdfc7acab4724acb5613dfacad870",
            "_dom_classes": [],
            "description": "",
            "_model_name": "HTMLModel",
            "placeholder": "​",
            "_view_module": "@jupyter-widgets/controls",
            "_model_module_version": "1.5.0",
            "value": " 365577/365672 [37:51&lt;00:00, 170.52it/s]",
            "_view_count": null,
            "_view_module_version": "1.5.0",
            "description_tooltip": null,
            "_model_module": "@jupyter-widgets/controls",
            "layout": "IPY_MODEL_c10c275a6c1b4a16ac5b1a3d85ea7bb9"
          }
        },
        "cebbf212e09449c08c0733985298b0b9": {
          "model_module": "@jupyter-widgets/controls",
          "model_name": "ProgressStyleModel",
          "state": {
            "_view_name": "StyleView",
            "_model_name": "ProgressStyleModel",
            "description_width": "initial",
            "_view_module": "@jupyter-widgets/base",
            "_model_module_version": "1.5.0",
            "_view_count": null,
            "_view_module_version": "1.2.0",
            "bar_color": null,
            "_model_module": "@jupyter-widgets/controls"
          }
        },
        "761a35ff94634d99a443d41307659e38": {
          "model_module": "@jupyter-widgets/base",
          "model_name": "LayoutModel",
          "state": {
            "_view_name": "LayoutView",
            "grid_template_rows": null,
            "right": null,
            "justify_content": null,
            "_view_module": "@jupyter-widgets/base",
            "overflow": null,
            "_model_module_version": "1.2.0",
            "_view_count": null,
            "flex_flow": null,
            "width": null,
            "min_width": null,
            "border": null,
            "align_items": null,
            "bottom": null,
            "_model_module": "@jupyter-widgets/base",
            "top": null,
            "grid_column": null,
            "overflow_y": null,
            "overflow_x": null,
            "grid_auto_flow": null,
            "grid_area": null,
            "grid_template_columns": null,
            "flex": "2",
            "_model_name": "LayoutModel",
            "justify_items": null,
            "grid_row": null,
            "max_height": null,
            "align_content": null,
            "visibility": null,
            "align_self": null,
            "height": null,
            "min_height": null,
            "padding": null,
            "grid_auto_rows": null,
            "grid_gap": null,
            "max_width": null,
            "order": null,
            "_view_module_version": "1.2.0",
            "grid_template_areas": null,
            "object_position": null,
            "object_fit": null,
            "grid_auto_columns": null,
            "margin": null,
            "display": null,
            "left": null
          }
        },
        "b9ecdfc7acab4724acb5613dfacad870": {
          "model_module": "@jupyter-widgets/controls",
          "model_name": "DescriptionStyleModel",
          "state": {
            "_view_name": "StyleView",
            "_model_name": "DescriptionStyleModel",
            "description_width": "",
            "_view_module": "@jupyter-widgets/base",
            "_model_module_version": "1.5.0",
            "_view_count": null,
            "_view_module_version": "1.2.0",
            "_model_module": "@jupyter-widgets/controls"
          }
        },
        "c10c275a6c1b4a16ac5b1a3d85ea7bb9": {
          "model_module": "@jupyter-widgets/base",
          "model_name": "LayoutModel",
          "state": {
            "_view_name": "LayoutView",
            "grid_template_rows": null,
            "right": null,
            "justify_content": null,
            "_view_module": "@jupyter-widgets/base",
            "overflow": null,
            "_model_module_version": "1.2.0",
            "_view_count": null,
            "flex_flow": null,
            "width": null,
            "min_width": null,
            "border": null,
            "align_items": null,
            "bottom": null,
            "_model_module": "@jupyter-widgets/base",
            "top": null,
            "grid_column": null,
            "overflow_y": null,
            "overflow_x": null,
            "grid_auto_flow": null,
            "grid_area": null,
            "grid_template_columns": null,
            "flex": null,
            "_model_name": "LayoutModel",
            "justify_items": null,
            "grid_row": null,
            "max_height": null,
            "align_content": null,
            "visibility": null,
            "align_self": null,
            "height": null,
            "min_height": null,
            "padding": null,
            "grid_auto_rows": null,
            "grid_gap": null,
            "max_width": null,
            "order": null,
            "_view_module_version": "1.2.0",
            "grid_template_areas": null,
            "object_position": null,
            "object_fit": null,
            "grid_auto_columns": null,
            "margin": null,
            "display": null,
            "left": null
          }
        }
      }
    }
  },
  "cells": [
    {
      "cell_type": "code",
      "metadata": {
        "id": "SWYhldpteF9-",
        "colab_type": "code",
        "colab": {}
      },
      "source": [
        "#for creation of labelled_data.txt\n",
        "import re\n",
        "import pandas as pd  #for preparing training data\n",
        "from collections import Counter\n",
        "import itertools\n",
        "from keras.preprocessing.text import text_to_word_sequence"
      ],
      "execution_count": 0,
      "outputs": []
    },
    {
      "cell_type": "code",
      "metadata": {
        "id": "BoGp3a7WeF-C",
        "colab_type": "code",
        "outputId": "603e3396-af29-40f9-8801-713c630c602a",
        "colab": {
          "base_uri": "https://localhost:8080/",
          "height": 195
        }
      },
      "source": [
        "# tags from corpus\n",
        "tagged_corpus = pd.read_csv(\"data/corpus_tags.tsv\", sep=\"\\t\", names=[\"pmid\", \"start\", \"end\", \"word\", \"type\", \"umls_id\"])\n",
        "tagged_corpus = tagged_corpus.dropna()\n",
        "tagged_corpus.head()"
      ],
      "execution_count": 0,
      "outputs": [
        {
          "output_type": "execute_result",
          "data": {
            "text/html": [
              "<div>\n",
              "<style scoped>\n",
              "    .dataframe tbody tr th:only-of-type {\n",
              "        vertical-align: middle;\n",
              "    }\n",
              "\n",
              "    .dataframe tbody tr th {\n",
              "        vertical-align: top;\n",
              "    }\n",
              "\n",
              "    .dataframe thead th {\n",
              "        text-align: right;\n",
              "    }\n",
              "</style>\n",
              "<table border=\"1\" class=\"dataframe\">\n",
              "  <thead>\n",
              "    <tr style=\"text-align: right;\">\n",
              "      <th></th>\n",
              "      <th>pmid</th>\n",
              "      <th>start</th>\n",
              "      <th>end</th>\n",
              "      <th>word</th>\n",
              "      <th>type</th>\n",
              "      <th>umls_id</th>\n",
              "    </tr>\n",
              "  </thead>\n",
              "  <tbody>\n",
              "    <tr>\n",
              "      <th>0</th>\n",
              "      <td>25763772</td>\n",
              "      <td>0</td>\n",
              "      <td>5</td>\n",
              "      <td>DCTN4</td>\n",
              "      <td>T116,T123</td>\n",
              "      <td>C4308010</td>\n",
              "    </tr>\n",
              "    <tr>\n",
              "      <th>1</th>\n",
              "      <td>25763772</td>\n",
              "      <td>23</td>\n",
              "      <td>63</td>\n",
              "      <td>chronic Pseudomonas aeruginosa infection</td>\n",
              "      <td>T047</td>\n",
              "      <td>C0854135</td>\n",
              "    </tr>\n",
              "    <tr>\n",
              "      <th>2</th>\n",
              "      <td>25763772</td>\n",
              "      <td>67</td>\n",
              "      <td>82</td>\n",
              "      <td>cystic fibrosis</td>\n",
              "      <td>T047</td>\n",
              "      <td>C0010674</td>\n",
              "    </tr>\n",
              "    <tr>\n",
              "      <th>3</th>\n",
              "      <td>25763772</td>\n",
              "      <td>83</td>\n",
              "      <td>120</td>\n",
              "      <td>Pseudomonas aeruginosa (Pa) infection</td>\n",
              "      <td>T047</td>\n",
              "      <td>C0854135</td>\n",
              "    </tr>\n",
              "    <tr>\n",
              "      <th>4</th>\n",
              "      <td>25763772</td>\n",
              "      <td>124</td>\n",
              "      <td>139</td>\n",
              "      <td>cystic fibrosis</td>\n",
              "      <td>T047</td>\n",
              "      <td>C0010674</td>\n",
              "    </tr>\n",
              "  </tbody>\n",
              "</table>\n",
              "</div>"
            ],
            "text/plain": [
              "       pmid  start  ...       type   umls_id\n",
              "0  25763772      0  ...  T116,T123  C4308010\n",
              "1  25763772     23  ...       T047  C0854135\n",
              "2  25763772     67  ...       T047  C0010674\n",
              "3  25763772     83  ...       T047  C0854135\n",
              "4  25763772    124  ...       T047  C0010674\n",
              "\n",
              "[5 rows x 6 columns]"
            ]
          },
          "metadata": {
            "tags": []
          },
          "execution_count": 9
        }
      ]
    },
    {
      "cell_type": "code",
      "metadata": {
        "id": "n5Mvy8sHeF-F",
        "colab_type": "code",
        "outputId": "20731459-a5c0-4705-9f27-53e2d3db6d78",
        "colab": {
          "base_uri": "https://localhost:8080/",
          "height": 34
        }
      },
      "source": [
        "classes = []\n",
        "with open(\"data/vocab_class.txt\") as ftags:\n",
        "    classes = [i.strip() for i in ftags.readlines()]\n",
        "    ftags.close()\n",
        "print(classes)"
      ],
      "execution_count": 0,
      "outputs": [
        {
          "output_type": "stream",
          "text": [
            "['T016']\n"
          ],
          "name": "stdout"
        }
      ]
    },
    {
      "cell_type": "code",
      "metadata": {
        "id": "6Lg5x9NneF-H",
        "colab_type": "code",
        "colab": {}
      },
      "source": [
        "# for each sentence the words and tags for each words is returned\n",
        "def get_words_tags(text, pmid,start=0):\n",
        "    words = []\n",
        "    tags = []  \n",
        "    typ = \"O\"\n",
        "    df = tagged_corpus[(tagged_corpus[\"pmid\"]==int(pmid)) & (tagged_corpus[\"end\"] <= start + len(text)) & (tagged_corpus[\"start\"] >= start)]\n",
        "    indices = df.index.values\n",
        "    text_split = text_to_word_sequence(text, filters='!\"#$%&()*+,-/:;<=>?@[\\\\]^_`{|}~\\t\\n')\n",
        "    for word in text_split:\n",
        "        words.append(word)\n",
        "        for i in indices:\n",
        "            text2 = df.loc[i][\"word\"]\n",
        "            text2_split = text_to_word_sequence(text2, filters='!\"#$%&()*+,-/:;<=>?@[\\\\]^_`{|}~\\t\\n')\n",
        "            if word in text2_split and set(df.loc[i][\"type\"].split(',')).intersection(classes):\n",
        "                typ = ','.join(list(set(df.loc[i][\"type\"].split(',')).intersection(classes)))\n",
        "                break\n",
        "            else:\n",
        "                typ = \"O\"\n",
        "        tags.append(typ)\n",
        "    return words,tags"
      ],
      "execution_count": 0,
      "outputs": []
    },
    {
      "cell_type": "code",
      "metadata": {
        "id": "pCDsFvSSeF-J",
        "colab_type": "code",
        "colab": {}
      },
      "source": [
        "fr = open(\"data/corpus_pubtator.txt\")\n",
        "#fr = open(\"para.txt\")\n",
        "fw = open(\"data/labelled_data_T016.txt\", \"w\")\n",
        "\n",
        "title_regex = re.compile(\"^\\d+\\|t\\|\")\n",
        "abstract_regex = re.compile(\"^\\d+\\|a\\|\") "
      ],
      "execution_count": 0,
      "outputs": []
    },
    {
      "cell_type": "code",
      "metadata": {
        "id": "QEZ6GoCaeF-N",
        "colab_type": "code",
        "outputId": "04415ff9-9f4e-4eb9-9dea-d567e0dd5f16",
        "colab": {
          "base_uri": "https://localhost:8080/",
          "height": 788,
          "referenced_widgets": [
            "d9f3e7a3e74247eba0f0103525d32109",
            "eef57a211ca24ab7beac249fedb44130",
            "8b78dc8309cf4b249ef5712d2a80b213",
            "e9a8bb2dbfb04ce2a56b4abace98da9c",
            "cebbf212e09449c08c0733985298b0b9",
            "761a35ff94634d99a443d41307659e38",
            "b9ecdfc7acab4724acb5613dfacad870",
            "c10c275a6c1b4a16ac5b1a3d85ea7bb9"
          ]
        }
      },
      "source": [
        "from tqdm.notebook import trange\n",
        "#opens the file and sends the title and abstract line by line to get_words_tags function\n",
        "__ = len(fr.readlines())\n",
        "fr.seek(0)\n",
        "\n",
        "print('Classes being used: ',classes)\n",
        "\n",
        "abstract_count = 0\n",
        "for i,_ in zip(fr.readlines(),trange(__, desc = 'Abstract',ncols='700px')):\n",
        "    line = i.strip()\n",
        "    title_search = title_regex.search(line)\n",
        "    abstract_search = abstract_regex.search(line)\n",
        "    if title_search:\n",
        "        title_line = title_regex.sub('',line)\n",
        "    elif abstract_search:\n",
        "        abstract = abstract_regex.sub('',line)\n",
        "        pmid = int(abstract_search.group(0)[:-3])\n",
        "        words,tags = get_words_tags(title_line,pmid,0)\n",
        "        fw.write(\"\\t\".join(words)+\"\\n\")\n",
        "        fw.write(\"\\t\".join(tags)+\"\\n\")\n",
        "        title_size = len(title_line) + 1                     # 1 for \\n        \n",
        "        for sentence in re.split(\"\\. \", abstract):\n",
        "            if len(sentence) == 0:\n",
        "                continue\n",
        "            _size = abstract.index(sentence) + title_size\n",
        "            words, tags = get_words_tags(sentence, pmid, _size)\n",
        "            fw.write(\"\\t\".join(words)+\"\\n\")\n",
        "            fw.write(\"\\t\".join(tags)+\"\\n\") \n",
        "        abstract_count += 1\n",
        "        if abstract_count%100 == 0:\n",
        "            print(\"PMID {} written to file. Abstract Count: {}\".format(pmid, abstract_count))\n",
        "fw.close()\n",
        "fr.close()"
      ],
      "execution_count": 0,
      "outputs": [
        {
          "output_type": "stream",
          "text": [
            "Classes being used:  ['T016']\n"
          ],
          "name": "stdout"
        },
        {
          "output_type": "display_data",
          "data": {
            "application/vnd.jupyter.widget-view+json": {
              "model_id": "d9f3e7a3e74247eba0f0103525d32109",
              "version_minor": 0,
              "version_major": 2
            },
            "text/plain": [
              "HBox(children=(IntProgress(value=0, description='Abstract', layout=Layout(flex='2'), max=365672, style=Progres…"
            ]
          },
          "metadata": {
            "tags": []
          }
        },
        {
          "output_type": "stream",
          "text": [
            "PMID 27255600 written to file. Abstract Count: 100\n",
            "PMID 27288403 written to file. Abstract Count: 200\n",
            "PMID 27322653 written to file. Abstract Count: 300\n",
            "PMID 27355434 written to file. Abstract Count: 400\n",
            "PMID 27390849 written to file. Abstract Count: 500\n",
            "PMID 27430240 written to file. Abstract Count: 600\n",
            "PMID 27454637 written to file. Abstract Count: 700\n",
            "PMID 27482869 written to file. Abstract Count: 800\n",
            "PMID 27510784 written to file. Abstract Count: 900\n",
            "PMID 27543896 written to file. Abstract Count: 1000\n",
            "PMID 27575503 written to file. Abstract Count: 1100\n",
            "PMID 27609696 written to file. Abstract Count: 1200\n",
            "PMID 27634799 written to file. Abstract Count: 1300\n",
            "PMID 27660632 written to file. Abstract Count: 1400\n",
            "PMID 27692572 written to file. Abstract Count: 1500\n",
            "PMID 27724977 written to file. Abstract Count: 1600\n",
            "PMID 27760426 written to file. Abstract Count: 1700\n",
            "PMID 27787956 written to file. Abstract Count: 1800\n",
            "PMID 27812858 written to file. Abstract Count: 1900\n",
            "PMID 27846331 written to file. Abstract Count: 2000\n",
            "PMID 27874071 written to file. Abstract Count: 2100\n",
            "PMID 27904925 written to file. Abstract Count: 2200\n",
            "PMID 27934808 written to file. Abstract Count: 2300\n",
            "PMID 27987734 written to file. Abstract Count: 2400\n",
            "PMID 28024987 written to file. Abstract Count: 2500\n",
            "PMID 28063305 written to file. Abstract Count: 2600\n",
            "PMID 28088177 written to file. Abstract Count: 2700\n",
            "PMID 28112192 written to file. Abstract Count: 2800\n",
            "PMID 28139296 written to file. Abstract Count: 2900\n",
            "PMID 28178386 written to file. Abstract Count: 3000\n",
            "PMID 28209459 written to file. Abstract Count: 3100\n",
            "PMID 28238581 written to file. Abstract Count: 3200\n",
            "PMID 28266689 written to file. Abstract Count: 3300\n",
            "PMID 28285309 written to file. Abstract Count: 3400\n",
            "PMID 28322190 written to file. Abstract Count: 3500\n",
            "PMID 28345195 written to file. Abstract Count: 3600\n",
            "PMID 28375566 written to file. Abstract Count: 3700\n",
            "PMID 28398095 written to file. Abstract Count: 3800\n",
            "PMID 28424061 written to file. Abstract Count: 3900\n",
            "PMID 28447201 written to file. Abstract Count: 4000\n",
            "PMID 28469632 written to file. Abstract Count: 4100\n",
            "PMID 28495934 written to file. Abstract Count: 4200\n",
            "PMID 28526485 written to file. Abstract Count: 4300\n"
          ],
          "name": "stdout"
        }
      ]
    },
    {
      "cell_type": "code",
      "metadata": {
        "id": "dx7daLvCEl5Z",
        "colab_type": "code",
        "outputId": "90005e39-1d34-4cfe-d612-11d691c9812b",
        "colab": {
          "base_uri": "https://localhost:8080/",
          "height": 101
        }
      },
      "source": [
        "print('__     ______    ___    __   _________')\n",
        "print('| \\   /  __  \\  | \\ \\   | |  |   _____|')\n",
        "print('|  |  | |  | |  | |\\ \\  | |  |  |_____')\n",
        "print('|  |  | |__| |  | | \\ \\ | |  |  |_____')\n",
        "print('|_/   \\______/  |_|  \\_\\|_|  |________|')"
      ],
      "execution_count": 0,
      "outputs": [
        {
          "output_type": "stream",
          "text": [
            "__     ______    ___    __   _________\n",
            "| \\   /  __  \\  | \\ \\   | |  |   _____|\n",
            "|  |  | |  | |  | |\\ \\  | |  |  |_____\n",
            "|  |  | |__| |  | | \\ \\ | |  |  |_____\n",
            "|_/   \\______/  |_|  \\_\\|_|  |________|\n"
          ],
          "name": "stdout"
        }
      ]
    },
    {
      "cell_type": "code",
      "metadata": {
        "id": "EdI0sV8lxMnL",
        "colab_type": "code",
        "colab": {}
      },
      "source": [
        ""
      ],
      "execution_count": 0,
      "outputs": []
    }
  ]
}