{
  "nbformat": 4,
  "nbformat_minor": 0,
  "metadata": {
    "colab": {
      "name": "create _labelled.ipynb",
      "provenance": [],
      "collapsed_sections": []
    },
    "kernelspec": {
      "name": "python3",
      "display_name": "Python 3"
    }
  },
  "cells": [
    {
      "cell_type": "code",
      "metadata": {
        "id": "h1KM3aG14nPn",
        "colab_type": "code",
        "outputId": "6615686a-ae9f-4cec-a847-604142a2b46b",
        "colab": {
          "base_uri": "https://localhost:8080/",
          "height": 357
        }
      },
      "source": [
        "!pip install --force https://github.com/chengs/tqdm/archive/colab.zip"
      ],
      "execution_count": 0,
      "outputs": [
        {
          "output_type": "stream",
          "text": [
            "Collecting https://github.com/chengs/tqdm/archive/colab.zip\n",
            "\u001b[?25l  Downloading https://github.com/chengs/tqdm/archive/colab.zip\n",
            "\u001b[K     | 235kB 277kB/s\n",
            "\u001b[?25hBuilding wheels for collected packages: tqdm\n",
            "  Building wheel for tqdm (setup.py) ... \u001b[?25l\u001b[?25hdone\n",
            "  Created wheel for tqdm: filename=tqdm-4.28.1-py2.py3-none-any.whl size=47867 sha256=43b3cea3d852a15d1115f310bb82a75d571162106df98211841d157857efd61c\n",
            "  Stored in directory: /tmp/pip-ephem-wheel-cache-vqua5v1g/wheels/41/18/ee/d5dd158441b27965855b1bbae03fa2d8a91fe645c01b419896\n",
            "Successfully built tqdm\n",
            "\u001b[31mERROR: spacy 2.2.4 has requirement tqdm<5.0.0,>=4.38.0, but you'll have tqdm 4.28.1 which is incompatible.\u001b[0m\n",
            "Installing collected packages: tqdm\n",
            "  Found existing installation: tqdm 4.38.0\n",
            "    Uninstalling tqdm-4.38.0:\n",
            "      Successfully uninstalled tqdm-4.38.0\n",
            "Successfully installed tqdm-4.28.1\n"
          ],
          "name": "stdout"
        },
        {
          "output_type": "display_data",
          "data": {
            "application/vnd.colab-display-data+json": {
              "pip_warning": {
                "packages": [
                  "tqdm"
                ]
              }
            }
          },
          "metadata": {
            "tags": []
          }
        }
      ]
    },
    {
      "cell_type": "code",
      "metadata": {
        "id": "SWYhldpteF9-",
        "colab_type": "code",
        "colab": {}
      },
      "source": [
        "#for creation of labelled_data.txt\n",
        "import re\n",
        "import pandas as pd  #for preparing training data\n",
        "from collections import Counter\n",
        "import itertools\n",
        "from keras.preprocessing.text import text_to_word_sequence"
      ],
      "execution_count": 0,
      "outputs": []
    },
    {
      "cell_type": "code",
      "metadata": {
        "id": "BoGp3a7WeF-C",
        "colab_type": "code",
        "outputId": "c48a8512-949d-48c9-e3bd-c89f6257cda5",
        "colab": {
          "base_uri": "https://localhost:8080/",
          "height": 195
        }
      },
      "source": [
        "# tags from corpus\n",
        "tagged_corpus = pd.read_csv(\"data/corpus_tags.tsv\", sep=\"\\t\", names=[\"pmid\", \"start\", \"end\", \"word\", \"type\", \"umls_id\"])\n",
        "tagged_corpus = tagged_corpus.dropna()\n",
        "tagged_corpus.head()"
      ],
      "execution_count": 21,
      "outputs": [
        {
          "output_type": "execute_result",
          "data": {
            "text/html": [
              "<div>\n",
              "<style scoped>\n",
              "    .dataframe tbody tr th:only-of-type {\n",
              "        vertical-align: middle;\n",
              "    }\n",
              "\n",
              "    .dataframe tbody tr th {\n",
              "        vertical-align: top;\n",
              "    }\n",
              "\n",
              "    .dataframe thead th {\n",
              "        text-align: right;\n",
              "    }\n",
              "</style>\n",
              "<table border=\"1\" class=\"dataframe\">\n",
              "  <thead>\n",
              "    <tr style=\"text-align: right;\">\n",
              "      <th></th>\n",
              "      <th>pmid</th>\n",
              "      <th>start</th>\n",
              "      <th>end</th>\n",
              "      <th>word</th>\n",
              "      <th>type</th>\n",
              "      <th>umls_id</th>\n",
              "    </tr>\n",
              "  </thead>\n",
              "  <tbody>\n",
              "    <tr>\n",
              "      <th>0</th>\n",
              "      <td>25763772</td>\n",
              "      <td>0</td>\n",
              "      <td>5</td>\n",
              "      <td>DCTN4</td>\n",
              "      <td>T116,T123</td>\n",
              "      <td>C4308010</td>\n",
              "    </tr>\n",
              "    <tr>\n",
              "      <th>1</th>\n",
              "      <td>25763772</td>\n",
              "      <td>23</td>\n",
              "      <td>63</td>\n",
              "      <td>chronic Pseudomonas aeruginosa infection</td>\n",
              "      <td>T047</td>\n",
              "      <td>C0854135</td>\n",
              "    </tr>\n",
              "    <tr>\n",
              "      <th>2</th>\n",
              "      <td>25763772</td>\n",
              "      <td>67</td>\n",
              "      <td>82</td>\n",
              "      <td>cystic fibrosis</td>\n",
              "      <td>T047</td>\n",
              "      <td>C0010674</td>\n",
              "    </tr>\n",
              "    <tr>\n",
              "      <th>3</th>\n",
              "      <td>25763772</td>\n",
              "      <td>83</td>\n",
              "      <td>120</td>\n",
              "      <td>Pseudomonas aeruginosa (Pa) infection</td>\n",
              "      <td>T047</td>\n",
              "      <td>C0854135</td>\n",
              "    </tr>\n",
              "    <tr>\n",
              "      <th>4</th>\n",
              "      <td>25763772</td>\n",
              "      <td>124</td>\n",
              "      <td>139</td>\n",
              "      <td>cystic fibrosis</td>\n",
              "      <td>T047</td>\n",
              "      <td>C0010674</td>\n",
              "    </tr>\n",
              "  </tbody>\n",
              "</table>\n",
              "</div>"
            ],
            "text/plain": [
              "       pmid  start  ...       type   umls_id\n",
              "0  25763772      0  ...  T116,T123  C4308010\n",
              "1  25763772     23  ...       T047  C0854135\n",
              "2  25763772     67  ...       T047  C0010674\n",
              "3  25763772     83  ...       T047  C0854135\n",
              "4  25763772    124  ...       T047  C0010674\n",
              "\n",
              "[5 rows x 6 columns]"
            ]
          },
          "metadata": {
            "tags": []
          },
          "execution_count": 21
        }
      ]
    },
    {
      "cell_type": "code",
      "metadata": {
        "id": "n5Mvy8sHeF-F",
        "colab_type": "code",
        "outputId": "ba79750f-454f-49c1-9d68-d546a67162b5",
        "colab": {
          "base_uri": "https://localhost:8080/",
          "height": 34
        }
      },
      "source": [
        "classes = []\n",
        "with open(\"data/vocab_class.txt\") as ftags:\n",
        "    classes = [i.strip() for i in ftags.readlines()]\n",
        "    ftags.close()\n",
        "classes"
      ],
      "execution_count": 22,
      "outputs": [
        {
          "output_type": "execute_result",
          "data": {
            "text/plain": [
              "['T047', 'T005', 'T007', 'T016']"
            ]
          },
          "metadata": {
            "tags": []
          },
          "execution_count": 22
        }
      ]
    },
    {
      "cell_type": "code",
      "metadata": {
        "id": "6Lg5x9NneF-H",
        "colab_type": "code",
        "colab": {}
      },
      "source": [
        "# for each sentence the words and tags for each words is returned\n",
        "def get_words_tags(text, pmid,start=0):\n",
        "    words = []\n",
        "    tags = []  \n",
        "    typ = \"O\"\n",
        "    df = tagged_corpus[(tagged_corpus[\"pmid\"]==int(pmid)) & (tagged_corpus[\"end\"] <= start + len(text)) & (tagged_corpus[\"start\"] >= start)]\n",
        "    indices = df.index.values\n",
        "    text_split = text_to_word_sequence(text, filters='!\"#$%&()*+,-/:;<=>?@[\\\\]^_`{|}~\\t\\n')\n",
        "    for word in text_split:\n",
        "        words.append(word)\n",
        "        for i in indices:\n",
        "            text2 = df.loc[i][\"word\"]\n",
        "            text2_split = text_to_word_sequence(text2, filters='!\"#$%&()*+,-/:;<=>?@[\\\\]^_`{|}~\\t\\n')\n",
        "            if word in text2_split and set(df.loc[i][\"type\"].split(',')).intersection(classes):\n",
        "                typ = ','.join(list(set(df.loc[i][\"type\"].split(',')).intersection(classes)))\n",
        "                break\n",
        "            else:\n",
        "                typ = \"O\"\n",
        "        tags.append(typ)\n",
        "    return words,tags"
      ],
      "execution_count": 0,
      "outputs": []
    },
    {
      "cell_type": "code",
      "metadata": {
        "id": "pCDsFvSSeF-J",
        "colab_type": "code",
        "colab": {}
      },
      "source": [
        "fr = open(\"data/corpus_pubtator.txt\")\n",
        "#fr = open(\"para.txt\")\n",
        "fw = open(\"data/labelled_data_T047.txt\", \"w\")\n",
        "\n",
        "title_regex = re.compile(\"^\\d+\\|t\\|\")\n",
        "abstract_regex = re.compile(\"^\\d+\\|a\\|\") "
      ],
      "execution_count": 0,
      "outputs": []
    },
    {
      "cell_type": "code",
      "metadata": {
        "id": "QEZ6GoCaeF-N",
        "colab_type": "code",
        "outputId": "f5dc359e-d071-4c09-f96e-fa03e0f1015e",
        "colab": {
          "base_uri": "https://localhost:8080/",
          "height": 35
        }
      },
      "source": [
        "from tqdm import tnrange\n",
        "#opens the file and sends the title and abstract line by line to get_words_tags function\n",
        "__ = len(fr.readlines())\n",
        "fr.seek(0)\n",
        "\n",
        "abstract_count = 0\n",
        "for i,_ in zip(fr.readlines(),tnrange(__, desc = 'Abstract',ncols='600px')):\n",
        "    line = i.strip()\n",
        "    title_search = title_regex.search(line)\n",
        "    abstract_search = abstract_regex.search(line)\n",
        "    if title_search:\n",
        "        title_line = title_regex.sub('',line)\n",
        "    elif abstract_search:\n",
        "        abstract = abstract_regex.sub('',line)\n",
        "        pmid = int(abstract_search.group(0)[:-3])\n",
        "        words,tags = get_words_tags(title_line,pmid,0)\n",
        "        fw.write(\"\\t\".join(words)+\"\\n\")\n",
        "        fw.write(\"\\t\".join(tags)+\"\\n\")\n",
        "        title_size = len(title_line) + 1                     # 1 for \\n        \n",
        "        for sentence in re.split(\"\\. \", abstract):\n",
        "            if len(sentence) == 0:\n",
        "                continue\n",
        "            _size = abstract.index(sentence) + title_size\n",
        "            words, tags = get_words_tags(sentence, pmid, _size)\n",
        "            fw.write(\"\\t\".join(words)+\"\\n\")\n",
        "            fw.write(\"\\t\".join(tags)+\"\\n\") \n",
        "        abstract_count += 1\n",
        "        if abstract_count%100 == 0:\n",
        "            print(\"PMID {} written to file. Abstract Count: {}\".format(pmid, abstract_count))\n",
        "fw.close()\n",
        "fr.close()"
      ],
      "execution_count": 0,
      "outputs": [
        {
          "output_type": "display_data",
          "data": {
            "text/html": [
              "<div style=\"display:flex;flex-direction:row;width:600px;display:inline-flex;flex_flow:row wrap;\"><span>Abstract</span><progress style='margin:2px 4px;description_width:initial;flex:2;' max='365672' value='3242'></progress>  1% 3242/365672 [00:20&lt;39:06, 154.45it/s]</div>"
            ],
            "text/plain": [
              "<tqdm._fake_ipywidgets.HBox object>"
            ]
          },
          "metadata": {
            "tags": []
          }
        }
      ]
    },
    {
      "cell_type": "code",
      "metadata": {
        "id": "dx7daLvCEl5Z",
        "colab_type": "code",
        "colab": {}
      },
      "source": [
        "print('__     ______    ___    __   _________')\n",
        "print('| \\   /  __  \\  | \\ \\   | |  |   _____|')\n",
        "print('|  |  | |  | |  | |\\ \\  | |  |  |_____')\n",
        "print('|  |  | |__| |  | | \\ \\ | |  |  |_____')\n",
        "print('|_/   \\______/  |_|  \\_\\|_|  |________|')"
      ],
      "execution_count": 0,
      "outputs": []
    },
    {
      "cell_type": "code",
      "metadata": {
        "id": "RrveJn2g5LnO",
        "colab_type": "code",
        "colab": {}
      },
      "source": [
        ""
      ],
      "execution_count": 0,
      "outputs": []
    }
  ]
}