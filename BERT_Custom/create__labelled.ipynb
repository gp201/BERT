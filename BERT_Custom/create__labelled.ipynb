{
  "nbformat": 4,
  "nbformat_minor": 0,
  "metadata": {
    "colab": {
      "name": "create _labelled.ipynb",
      "provenance": [],
      "private_outputs": true
    },
    "kernelspec": {
      "name": "python3",
      "display_name": "Python 3"
    }
  },
  "cells": [
    {
      "cell_type": "code",
      "metadata": {
        "id": "SWYhldpteF9-",
        "colab_type": "code",
        "colab": {}
      },
      "source": [
        "#for creation of labelled_data.txt\n",
        "import re\n",
        "import pandas as pd  #for preparing training data\n",
        "from collections import Counter\n",
        "import itertools\n",
        "from keras.preprocessing.text import text_to_word_sequence"
      ],
      "execution_count": 0,
      "outputs": []
    },
    {
      "cell_type": "code",
      "metadata": {
        "id": "BoGp3a7WeF-C",
        "colab_type": "code",
        "colab": {}
      },
      "source": [
        "# tags from corpus\n",
        "tagged_corpus = pd.read_csv(\"data/corpus_tags.tsv\", sep=\"\\t\", names=[\"pmid\", \"start\", \"end\", \"word\", \"type\", \"umls_id\"])\n",
        "tagged_corpus = tagged_corpus.dropna()\n",
        "tagged_corpus.head()"
      ],
      "execution_count": 0,
      "outputs": []
    },
    {
      "cell_type": "code",
      "metadata": {
        "id": "n5Mvy8sHeF-F",
        "colab_type": "code",
        "colab": {}
      },
      "source": [
        "classes = []\n",
        "with open(\"data/vocab_class.txt\") as ftags:\n",
        "    classes = [i.strip() for i in ftags.readlines()]\n",
        "    ftags.close()\n",
        "classes"
      ],
      "execution_count": 0,
      "outputs": []
    },
    {
      "cell_type": "code",
      "metadata": {
        "id": "6Lg5x9NneF-H",
        "colab_type": "code",
        "colab": {}
      },
      "source": [
        "# for each sentence the words and tags for each words is returned\n",
        "def get_words_tags(text, pmid,start=0):\n",
        "    words = []\n",
        "    tags = []  \n",
        "    typ = \"O\"\n",
        "    df = tagged_corpus[(tagged_corpus[\"pmid\"]==int(pmid)) & (tagged_corpus[\"end\"] <= start + len(text)) & (tagged_corpus[\"start\"] >= start)]\n",
        "    indices = df.index.values\n",
        "    text_split = text_to_word_sequence(text)\n",
        "    for word in text_split:\n",
        "        words.append(word)\n",
        "        for i in indices:\n",
        "            text2 = df.loc[i][\"word\"]\n",
        "            text2_split = text_to_word_sequence(text2)\n",
        "            #if word in text2_split and set(df.loc[i][\"type\"].split(',')).intersection(classes):\n",
        "            if word in text2_split:\n",
        "                typ = df.loc[i][\"type\"]\n",
        "                break\n",
        "            else:\n",
        "                typ = \"O\"\n",
        "        tags.append(typ)\n",
        "    return words,tags"
      ],
      "execution_count": 0,
      "outputs": []
    },
    {
      "cell_type": "code",
      "metadata": {
        "id": "pCDsFvSSeF-J",
        "colab_type": "code",
        "colab": {}
      },
      "source": [
        "fr = open(\"data/corpus_pubtator.txt\")\n",
        "#fr = open(\"para.txt\")\n",
        "fw = open(\"data/labelled_data.txt\", \"w\")\n",
        "\n",
        "title_regex = re.compile(\"^\\d+\\|t\\|\")\n",
        "abstract_regex = re.compile(\"^\\d+\\|a\\|\") "
      ],
      "execution_count": 0,
      "outputs": []
    },
    {
      "cell_type": "code",
      "metadata": {
        "id": "QEZ6GoCaeF-N",
        "colab_type": "code",
        "colab": {}
      },
      "source": [
        "#opens the file and sends the title and abstract line by line to get_words_tags function\n",
        "abstract_count = 0\n",
        "for i in fr.readlines():\n",
        "    line = i.strip()\n",
        "    title_search = title_regex.search(line)\n",
        "    abstract_search = abstract_regex.search(line)\n",
        "    if title_search:\n",
        "        title_line = title_regex.sub('',line)\n",
        "    elif abstract_search:\n",
        "        abstract = abstract_regex.sub('',line)\n",
        "        pmid = int(abstract_search.group(0)[:-3])\n",
        "        words,tags = get_words_tags(title_line,pmid,0)\n",
        "        fw.write(\"\\t\".join(words)+\"\\n\")\n",
        "        fw.write(\"\\t\".join(tags)+\"\\n\")\n",
        "        title_size = len(title_line) + 1                     # 1 for \\n        \n",
        "        for sentence in re.split(\"\\.\", abstract):\n",
        "            if len(sentence) == 0:\n",
        "                continue\n",
        "            _size = abstract.index(sentence) + title_size\n",
        "            words, tags = get_words_tags(sentence, pmid, _size)\n",
        "            fw.write(\"\\t\".join(words)+\"\\n\")\n",
        "            fw.write(\"\\t\".join(tags)+\"\\n\") \n",
        "        abstract_count += 1\n",
        "        if abstract_count%10 == 0:\n",
        "            print(\"PMID {} written to file. Abstract Count: {}\".format(pmid, abstract_count))\n",
        "fw.close()\n",
        "fr.close()"
      ],
      "execution_count": 0,
      "outputs": []
    }
  ]
}