{
  "nbformat": 4,
  "nbformat_minor": 0,
  "metadata": {
    "colab": {
      "name": "create _labelled.ipynb",
      "provenance": [],
      "collapsed_sections": []
    },
    "kernelspec": {
      "name": "python3",
      "display_name": "Python 3"
    },
    "widgets": {
      "application/vnd.jupyter.widget-state+json": {
        "e09c346a82af4927b43a0934a2706be3": {
          "model_module": "@jupyter-widgets/controls",
          "model_name": "HBoxModel",
          "state": {
            "_view_name": "HBoxView",
            "_dom_classes": [],
            "_model_name": "HBoxModel",
            "_view_module": "@jupyter-widgets/controls",
            "_model_module_version": "1.5.0",
            "_view_count": null,
            "_view_module_version": "1.5.0",
            "box_style": "",
            "layout": "IPY_MODEL_8823c549915445308c5e8b4c97d08e3c",
            "_model_module": "@jupyter-widgets/controls",
            "children": [
              "IPY_MODEL_30252985ff80433e890a451ec87644e8",
              "IPY_MODEL_195079e38647444fa38d704e4029a204"
            ]
          }
        },
        "8823c549915445308c5e8b4c97d08e3c": {
          "model_module": "@jupyter-widgets/base",
          "model_name": "LayoutModel",
          "state": {
            "_view_name": "LayoutView",
            "grid_template_rows": null,
            "right": null,
            "justify_content": null,
            "_view_module": "@jupyter-widgets/base",
            "overflow": null,
            "_model_module_version": "1.2.0",
            "_view_count": null,
            "flex_flow": "row wrap",
            "width": "700px",
            "min_width": null,
            "border": null,
            "align_items": null,
            "bottom": null,
            "_model_module": "@jupyter-widgets/base",
            "top": null,
            "grid_column": null,
            "overflow_y": null,
            "overflow_x": null,
            "grid_auto_flow": null,
            "grid_area": null,
            "grid_template_columns": null,
            "flex": null,
            "_model_name": "LayoutModel",
            "justify_items": null,
            "grid_row": null,
            "max_height": null,
            "align_content": null,
            "visibility": null,
            "align_self": null,
            "height": null,
            "min_height": null,
            "padding": null,
            "grid_auto_rows": null,
            "grid_gap": null,
            "max_width": null,
            "order": null,
            "_view_module_version": "1.2.0",
            "grid_template_areas": null,
            "object_position": null,
            "object_fit": null,
            "grid_auto_columns": null,
            "margin": null,
            "display": "inline-flex",
            "left": null
          }
        },
        "30252985ff80433e890a451ec87644e8": {
          "model_module": "@jupyter-widgets/controls",
          "model_name": "FloatProgressModel",
          "state": {
            "_view_name": "ProgressView",
            "style": "IPY_MODEL_7072b19d994d495bb523a119f7a9dc43",
            "_dom_classes": [],
            "description": "Abstract:   4%",
            "_model_name": "FloatProgressModel",
            "bar_style": "",
            "max": 365672,
            "_view_module": "@jupyter-widgets/controls",
            "_model_module_version": "1.5.0",
            "value": 13747,
            "_view_count": null,
            "_view_module_version": "1.5.0",
            "orientation": "horizontal",
            "min": 0,
            "description_tooltip": null,
            "_model_module": "@jupyter-widgets/controls",
            "layout": "IPY_MODEL_f867d41ccddf42d6ad925ac09d2f0ea6"
          }
        },
        "195079e38647444fa38d704e4029a204": {
          "model_module": "@jupyter-widgets/controls",
          "model_name": "HTMLModel",
          "state": {
            "_view_name": "HTMLView",
            "style": "IPY_MODEL_90c6adbdbb4f44af89d1f35e29c99970",
            "_dom_classes": [],
            "description": "",
            "_model_name": "HTMLModel",
            "placeholder": "​",
            "_view_module": "@jupyter-widgets/controls",
            "_model_module_version": "1.5.0",
            "value": " 13669/365672 [01:23&lt;37:18, 157.24it/s]",
            "_view_count": null,
            "_view_module_version": "1.5.0",
            "description_tooltip": null,
            "_model_module": "@jupyter-widgets/controls",
            "layout": "IPY_MODEL_d31c130973c0452ab7b319d85a8907e7"
          }
        },
        "7072b19d994d495bb523a119f7a9dc43": {
          "model_module": "@jupyter-widgets/controls",
          "model_name": "ProgressStyleModel",
          "state": {
            "_view_name": "StyleView",
            "_model_name": "ProgressStyleModel",
            "description_width": "initial",
            "_view_module": "@jupyter-widgets/base",
            "_model_module_version": "1.5.0",
            "_view_count": null,
            "_view_module_version": "1.2.0",
            "bar_color": null,
            "_model_module": "@jupyter-widgets/controls"
          }
        },
        "f867d41ccddf42d6ad925ac09d2f0ea6": {
          "model_module": "@jupyter-widgets/base",
          "model_name": "LayoutModel",
          "state": {
            "_view_name": "LayoutView",
            "grid_template_rows": null,
            "right": null,
            "justify_content": null,
            "_view_module": "@jupyter-widgets/base",
            "overflow": null,
            "_model_module_version": "1.2.0",
            "_view_count": null,
            "flex_flow": null,
            "width": null,
            "min_width": null,
            "border": null,
            "align_items": null,
            "bottom": null,
            "_model_module": "@jupyter-widgets/base",
            "top": null,
            "grid_column": null,
            "overflow_y": null,
            "overflow_x": null,
            "grid_auto_flow": null,
            "grid_area": null,
            "grid_template_columns": null,
            "flex": "2",
            "_model_name": "LayoutModel",
            "justify_items": null,
            "grid_row": null,
            "max_height": null,
            "align_content": null,
            "visibility": null,
            "align_self": null,
            "height": null,
            "min_height": null,
            "padding": null,
            "grid_auto_rows": null,
            "grid_gap": null,
            "max_width": null,
            "order": null,
            "_view_module_version": "1.2.0",
            "grid_template_areas": null,
            "object_position": null,
            "object_fit": null,
            "grid_auto_columns": null,
            "margin": null,
            "display": null,
            "left": null
          }
        },
        "90c6adbdbb4f44af89d1f35e29c99970": {
          "model_module": "@jupyter-widgets/controls",
          "model_name": "DescriptionStyleModel",
          "state": {
            "_view_name": "StyleView",
            "_model_name": "DescriptionStyleModel",
            "description_width": "",
            "_view_module": "@jupyter-widgets/base",
            "_model_module_version": "1.5.0",
            "_view_count": null,
            "_view_module_version": "1.2.0",
            "_model_module": "@jupyter-widgets/controls"
          }
        },
        "d31c130973c0452ab7b319d85a8907e7": {
          "model_module": "@jupyter-widgets/base",
          "model_name": "LayoutModel",
          "state": {
            "_view_name": "LayoutView",
            "grid_template_rows": null,
            "right": null,
            "justify_content": null,
            "_view_module": "@jupyter-widgets/base",
            "overflow": null,
            "_model_module_version": "1.2.0",
            "_view_count": null,
            "flex_flow": null,
            "width": null,
            "min_width": null,
            "border": null,
            "align_items": null,
            "bottom": null,
            "_model_module": "@jupyter-widgets/base",
            "top": null,
            "grid_column": null,
            "overflow_y": null,
            "overflow_x": null,
            "grid_auto_flow": null,
            "grid_area": null,
            "grid_template_columns": null,
            "flex": null,
            "_model_name": "LayoutModel",
            "justify_items": null,
            "grid_row": null,
            "max_height": null,
            "align_content": null,
            "visibility": null,
            "align_self": null,
            "height": null,
            "min_height": null,
            "padding": null,
            "grid_auto_rows": null,
            "grid_gap": null,
            "max_width": null,
            "order": null,
            "_view_module_version": "1.2.0",
            "grid_template_areas": null,
            "object_position": null,
            "object_fit": null,
            "grid_auto_columns": null,
            "margin": null,
            "display": null,
            "left": null
          }
        }
      }
    }
  },
  "cells": [
    {
      "cell_type": "code",
      "metadata": {
        "id": "SWYhldpteF9-",
        "colab_type": "code",
        "outputId": "059d5021-66f1-42dc-ee19-0276e42360d1",
        "colab": {
          "base_uri": "https://localhost:8080/",
          "height": 34
        }
      },
      "source": [
        "#for creation of labelled_data.txt\n",
        "import re\n",
        "import pandas as pd  #for preparing training data\n",
        "from collections import Counter\n",
        "import itertools\n",
        "from keras.preprocessing.text import text_to_word_sequence"
      ],
      "execution_count": 1,
      "outputs": [
        {
          "output_type": "stream",
          "text": [
            "Using TensorFlow backend.\n"
          ],
          "name": "stderr"
        }
      ]
    },
    {
      "cell_type": "code",
      "metadata": {
        "id": "BoGp3a7WeF-C",
        "colab_type": "code",
        "outputId": "df903b6b-7191-4c9d-e41f-ffdf302cf563",
        "colab": {
          "base_uri": "https://localhost:8080/",
          "height": 195
        }
      },
      "source": [
        "# tags from corpus\n",
        "tagged_corpus = pd.read_csv(\"data/corpus_tags.tsv\", sep=\"\\t\", names=[\"pmid\", \"start\", \"end\", \"word\", \"type\", \"umls_id\"])\n",
        "tagged_corpus = tagged_corpus.dropna()\n",
        "tagged_corpus.head()"
      ],
      "execution_count": 2,
      "outputs": [
        {
          "output_type": "execute_result",
          "data": {
            "text/html": [
              "<div>\n",
              "<style scoped>\n",
              "    .dataframe tbody tr th:only-of-type {\n",
              "        vertical-align: middle;\n",
              "    }\n",
              "\n",
              "    .dataframe tbody tr th {\n",
              "        vertical-align: top;\n",
              "    }\n",
              "\n",
              "    .dataframe thead th {\n",
              "        text-align: right;\n",
              "    }\n",
              "</style>\n",
              "<table border=\"1\" class=\"dataframe\">\n",
              "  <thead>\n",
              "    <tr style=\"text-align: right;\">\n",
              "      <th></th>\n",
              "      <th>pmid</th>\n",
              "      <th>start</th>\n",
              "      <th>end</th>\n",
              "      <th>word</th>\n",
              "      <th>type</th>\n",
              "      <th>umls_id</th>\n",
              "    </tr>\n",
              "  </thead>\n",
              "  <tbody>\n",
              "    <tr>\n",
              "      <th>0</th>\n",
              "      <td>25763772</td>\n",
              "      <td>0</td>\n",
              "      <td>5</td>\n",
              "      <td>DCTN4</td>\n",
              "      <td>T116,T123</td>\n",
              "      <td>C4308010</td>\n",
              "    </tr>\n",
              "    <tr>\n",
              "      <th>1</th>\n",
              "      <td>25763772</td>\n",
              "      <td>23</td>\n",
              "      <td>63</td>\n",
              "      <td>chronic Pseudomonas aeruginosa infection</td>\n",
              "      <td>T047</td>\n",
              "      <td>C0854135</td>\n",
              "    </tr>\n",
              "    <tr>\n",
              "      <th>2</th>\n",
              "      <td>25763772</td>\n",
              "      <td>67</td>\n",
              "      <td>82</td>\n",
              "      <td>cystic fibrosis</td>\n",
              "      <td>T047</td>\n",
              "      <td>C0010674</td>\n",
              "    </tr>\n",
              "    <tr>\n",
              "      <th>3</th>\n",
              "      <td>25763772</td>\n",
              "      <td>83</td>\n",
              "      <td>120</td>\n",
              "      <td>Pseudomonas aeruginosa (Pa) infection</td>\n",
              "      <td>T047</td>\n",
              "      <td>C0854135</td>\n",
              "    </tr>\n",
              "    <tr>\n",
              "      <th>4</th>\n",
              "      <td>25763772</td>\n",
              "      <td>124</td>\n",
              "      <td>139</td>\n",
              "      <td>cystic fibrosis</td>\n",
              "      <td>T047</td>\n",
              "      <td>C0010674</td>\n",
              "    </tr>\n",
              "  </tbody>\n",
              "</table>\n",
              "</div>"
            ],
            "text/plain": [
              "       pmid  start  ...       type   umls_id\n",
              "0  25763772      0  ...  T116,T123  C4308010\n",
              "1  25763772     23  ...       T047  C0854135\n",
              "2  25763772     67  ...       T047  C0010674\n",
              "3  25763772     83  ...       T047  C0854135\n",
              "4  25763772    124  ...       T047  C0010674\n",
              "\n",
              "[5 rows x 6 columns]"
            ]
          },
          "metadata": {
            "tags": []
          },
          "execution_count": 2
        }
      ]
    },
    {
      "cell_type": "code",
      "metadata": {
        "id": "n5Mvy8sHeF-F",
        "colab_type": "code",
        "outputId": "6443ff94-60b1-4017-940c-9a2681a4b933",
        "colab": {
          "base_uri": "https://localhost:8080/",
          "height": 34
        }
      },
      "source": [
        "classes = []\n",
        "with open(\"data/vocab_class.txt\") as ftags:\n",
        "    classes = [i.strip() for i in ftags.readlines()]\n",
        "    ftags.close()\n",
        "print(classes)"
      ],
      "execution_count": 3,
      "outputs": [
        {
          "output_type": "stream",
          "text": [
            "['T047', 'T005', 'T007', 'T016']\n"
          ],
          "name": "stdout"
        }
      ]
    },
    {
      "cell_type": "code",
      "metadata": {
        "id": "6Lg5x9NneF-H",
        "colab_type": "code",
        "colab": {}
      },
      "source": [
        "# for each sentence the words and tags for each words is returned\n",
        "def get_words_tags(text, pmid,start=0):\n",
        "    words = []\n",
        "    tags = []  \n",
        "    typ = \"O\"\n",
        "    df = tagged_corpus[(tagged_corpus[\"pmid\"]==int(pmid)) & (tagged_corpus[\"end\"] <= start + len(text)) & (tagged_corpus[\"start\"] >= start)]\n",
        "    indices = df.index.values\n",
        "    text_split = text_to_word_sequence(text, filters='!\"#$%&()*+,-/:;<=>?@[\\\\]^_`{|}~\\t\\n', lower = False)\n",
        "    for word in text_split:\n",
        "        words.append(word)\n",
        "        for i in indices:\n",
        "            text2 = df.loc[i][\"word\"]\n",
        "            text2_split = text_to_word_sequence(text2, filters='!\"#$%&()*+,-/:;<=>?@[\\\\]^_`{|}~\\t\\n', lower = False)\n",
        "            if word in text2_split and set(df.loc[i][\"type\"].split(',')).intersection(classes):\n",
        "                typ = ','.join(list(set(df.loc[i][\"type\"].split(',')).intersection(classes)))\n",
        "                break\n",
        "            else:\n",
        "                typ = \"O\"\n",
        "        tags.append(typ)\n",
        "    return words,tags"
      ],
      "execution_count": 0,
      "outputs": []
    },
    {
      "cell_type": "code",
      "metadata": {
        "id": "pCDsFvSSeF-J",
        "colab_type": "code",
        "colab": {}
      },
      "source": [
        "fr = open(\"data/corpus_pubtator.txt\")\n",
        "#fr = open(\"para.txt\")\n",
        "fw = open(\"data/labelled_data_\" + ''.join(classes) + \".txt\", \"w\")\n",
        "\n",
        "title_regex = re.compile(\"^\\d+\\|t\\|\")\n",
        "abstract_regex = re.compile(\"^\\d+\\|a\\|\") "
      ],
      "execution_count": 0,
      "outputs": []
    },
    {
      "cell_type": "code",
      "metadata": {
        "id": "QEZ6GoCaeF-N",
        "colab_type": "code",
        "outputId": "61622faa-2112-4707-af98-8152c260e667",
        "colab": {
          "base_uri": "https://localhost:8080/",
          "height": 82,
          "referenced_widgets": [
            "e09c346a82af4927b43a0934a2706be3",
            "8823c549915445308c5e8b4c97d08e3c",
            "30252985ff80433e890a451ec87644e8",
            "195079e38647444fa38d704e4029a204",
            "7072b19d994d495bb523a119f7a9dc43",
            "f867d41ccddf42d6ad925ac09d2f0ea6",
            "90c6adbdbb4f44af89d1f35e29c99970",
            "d31c130973c0452ab7b319d85a8907e7"
          ]
        }
      },
      "source": [
        "from tqdm.notebook import trange\n",
        "#opens the file and sends the title and abstract line by line to get_words_tags function\n",
        "__ = len(fr.readlines())\n",
        "fr.seek(0)\n",
        "\n",
        "print('Classes being used: ',classes)\n",
        "\n",
        "abstract_count = 0\n",
        "for i,_ in zip(fr.readlines(),trange(__, desc = 'Abstract',ncols='700px')):\n",
        "    line = i.strip()\n",
        "    title_search = title_regex.search(line)\n",
        "    abstract_search = abstract_regex.search(line)\n",
        "    if title_search:\n",
        "        title_line = title_regex.sub('',line)\n",
        "    elif abstract_search:\n",
        "        abstract = abstract_regex.sub('',line)\n",
        "        pmid = int(abstract_search.group(0)[:-3])\n",
        "        words,tags = get_words_tags(title_line,pmid,0)\n",
        "        fw.write(\"\\t\".join(words)+\"\\n\")\n",
        "        fw.write(\"\\t\".join(tags)+\"\\n\")\n",
        "        title_size = len(title_line) + 1                     # 1 for \\n        \n",
        "        for sentence in re.split(\"\\. \", abstract):\n",
        "            if len(sentence) == 0:\n",
        "                continue\n",
        "            _size = abstract.index(sentence) + title_size\n",
        "            words, tags = get_words_tags(sentence, pmid, _size)\n",
        "            fw.write(\"\\t\".join(words)+\"\\n\")\n",
        "            fw.write(\"\\t\".join(tags)+\"\\n\") \n",
        "        abstract_count += 1\n",
        "        if abstract_count%100 == 0:\n",
        "            print(\"PMID {} written to file. Abstract Count: {}\".format(pmid, abstract_count))\n",
        "fw.close()\n",
        "fr.close()"
      ],
      "execution_count": 0,
      "outputs": [
        {
          "output_type": "stream",
          "text": [
            "Classes being used:  ['T047', 'T005', 'T007', 'T016']\n"
          ],
          "name": "stdout"
        },
        {
          "output_type": "display_data",
          "data": {
            "application/vnd.jupyter.widget-view+json": {
              "model_id": "e09c346a82af4927b43a0934a2706be3",
              "version_minor": 0,
              "version_major": 2
            },
            "text/plain": [
              "HBox(children=(FloatProgress(value=0.0, description='Abstract', layout=Layout(flex='2'), max=365672.0, style=P…"
            ]
          },
          "metadata": {
            "tags": []
          }
        },
        {
          "output_type": "stream",
          "text": [
            "PMID 27255600 written to file. Abstract Count: 100\n"
          ],
          "name": "stdout"
        }
      ]
    },
    {
      "cell_type": "code",
      "metadata": {
        "id": "dx7daLvCEl5Z",
        "colab_type": "code",
        "colab": {}
      },
      "source": [
        "print('__     ______    ___    __   _________')\n",
        "print('| \\   /  __  \\  | \\ \\   | |  |   _____|')\n",
        "print('|  |  | |  | |  | |\\ \\  | |  |  |_____')\n",
        "print('|  |  | |__| |  | | \\ \\ | |  |  |_____')\n",
        "print('|_/   \\______/  |_|  \\_\\|_|  |________|')"
      ],
      "execution_count": 0,
      "outputs": []
    }
  ]
}