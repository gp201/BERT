{
  "nbformat": 4,
  "nbformat_minor": 0,
  "metadata": {
    "kernelspec": {
      "display_name": "Python 3",
      "language": "python",
      "name": "python3"
    },
    "language_info": {
      "codemirror_mode": {
        "name": "ipython",
        "version": 3
      },
      "file_extension": ".py",
      "mimetype": "text/x-python",
      "name": "python",
      "nbconvert_exporter": "python",
      "pygments_lexer": "ipython3",
      "version": "3.7.3"
    },
    "colab": {
      "name": "Convert_txt.ipynb",
      "provenance": [],
      "collapsed_sections": []
    }
  },
  "cells": [
    {
      "cell_type": "code",
      "metadata": {
        "id": "dU9vA2Smn6um",
        "colab_type": "code",
        "colab": {}
      },
      "source": [
        "import csv\n",
        "import sys\n",
        "import os\n",
        "import re\n",
        "import math"
      ],
      "execution_count": 0,
      "outputs": []
    },
    {
      "cell_type": "code",
      "metadata": {
        "id": "4rzCX7bRplqd",
        "colab_type": "code",
        "outputId": "58fb8448-7f8c-4d1a-f21c-da95510b75eb",
        "colab": {
          "base_uri": "https://localhost:8080/",
          "height": 50
        }
      },
      "source": [
        "# Convert comma-delimited CSV files to tab-delimited files\n",
        "# Usage: Drag-and-drop CSV file over script to convert it.\n",
        "\n",
        "inputPath = \"data/test_T047005007016.csv\"\n",
        "outputPath = \"data/test_T047005007016.txt\"\n",
        "\n",
        "# https://stackoverflow.com/a/27553098/3357935\n",
        "print(\"Converting CSV to tab-delimited file...\")\n",
        "with open(inputPath) as inputFile:\n",
        "\tnext(inputFile)\n",
        "\twith open(outputPath, 'w', newline='') as outputFile:\n",
        "\t\treader = csv.DictReader(inputFile, delimiter=',')\n",
        "\t\twriter = csv.DictWriter(outputFile, reader.fieldnames, delimiter='\\t')\n",
        "\t\twriter.writeheader()\n",
        "\t\twriter.writerows(reader)\n",
        "print(\"Conversion complete.\")"
      ],
      "execution_count": 5,
      "outputs": [
        {
          "output_type": "stream",
          "text": [
            "Converting CSV to tab-delimited file...\n",
            "Conversion complete.\n"
          ],
          "name": "stdout"
        }
      ]
    },
    {
      "cell_type": "code",
      "metadata": {
        "id": "EfFAq-sV91ou",
        "colab_type": "code",
        "colab": {}
      },
      "source": [
        "train = open(\"data/train_mod.txt\", 'w')\n",
        "test = open(\"data/test_mod.txt\", 'w')\n",
        "dev = open(\"data/dev.txt\", 'w')\n",
        "dataset = open(\"data/model.txt\")\n",
        "\n",
        "sentence_regex = re.compile(\"^(Sentence: )\\d+\")\n",
        "\n",
        "# automate getting number of sentences\n",
        "#42097\n",
        "\n",
        "no_sentences = 62971"
      ],
      "execution_count": 0,
      "outputs": []
    },
    {
      "cell_type": "code",
      "metadata": {
        "id": "lyPL_xbGDqQL",
        "colab_type": "code",
        "colab": {}
      },
      "source": [
        "sent_no = 0 #Sentence number from file\n",
        "train_end = math.floor(no_sentences*0.75)\n",
        "test_end = train_end + math.floor(no_sentences*0.25)\n",
        "\n",
        "for line in dataset.readlines():\n",
        "  if len(line) != 3:\n",
        "    sentence_search = sentence_regex.search(line)\n",
        "    sent_no = int(sentence_search.group(0)[9:])\n",
        "  if sent_no < train_end:\n",
        "    train.write(line)\n",
        "  elif sent_no < test_end:\n",
        "    test.write(line)\n",
        "  else:\n",
        "    dev.write(line)\n",
        "\n",
        "dataset.close()\n",
        "train.close()\n",
        "test.close()\n",
        "dev.close()"
      ],
      "execution_count": 0,
      "outputs": []
    },
    {
      "cell_type": "markdown",
      "metadata": {
        "id": "N45Hhi6bqA5R",
        "colab_type": "text"
      },
      "source": [
        "counting lines"
      ]
    },
    {
      "cell_type": "code",
      "metadata": {
        "id": "uhQ3WUVUTg_S",
        "colab_type": "code",
        "colab": {}
      },
      "source": [
        "import re\n",
        "file_1 = open('train_alltags_2.txt')\n",
        "file_2 = open('test_alltags_2.txt')\n",
        "sentence_regex = re.compile(\"^(Sentence: )\\d+\")\n",
        "sent_no = 0\n",
        "sent_count_train = 0\n",
        "sent_count_test = 0\n",
        "tmp =0\n",
        "\n",
        "for line in file_1.readlines():\n",
        "  if len(line) <=3:\n",
        "    continue\n",
        "  sentence_search = sentence_regex.search(line)\n",
        "  sent_no = int(sentence_search.group(0)[9:])\n",
        "  if sent_no != tmp:\n",
        "    sent_count_train += 1\n",
        "    tmp = sent_no\n",
        "\n",
        "for line in file_2.readlines():\n",
        "  if len(line) <=3:\n",
        "    continue\n",
        "  sentence_search = sentence_regex.search(line)\n",
        "  sent_no = int(sentence_search.group(0)[9:])\n",
        "  if sent_no != tmp:\n",
        "    sent_count_test += 1\n",
        "    tmp = sent_no\n",
        "\n",
        "print(sent_count_train, sent_count_test)\n"
      ],
      "execution_count": 0,
      "outputs": []
    }
  ]
}