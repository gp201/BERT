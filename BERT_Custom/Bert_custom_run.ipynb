{
  "nbformat": 4,
  "nbformat_minor": 0,
  "metadata": {
    "colab": {
      "name": "Bert_custom_run.ipynb",
      "provenance": [],
      "collapsed_sections": [],
      "toc_visible": true
    },
    "kernelspec": {
      "name": "python3",
      "display_name": "Python 3"
    },
    "accelerator": "GPU"
  },
  "cells": [
    {
      "cell_type": "code",
      "metadata": {
        "id": "Q67hSKqhJ8lm",
        "colab_type": "code",
        "colab": {}
      },
      "source": [
        "!pip install pytorch_transformers flair seqeval"
      ],
      "execution_count": 0,
      "outputs": []
    },
    {
      "cell_type": "code",
      "metadata": {
        "id": "Pd_Z1JJeNYi_",
        "colab_type": "code",
        "colab": {}
      },
      "source": [
        "#!mkdir -p conll2003\n",
        "#!wget https://raw.githubusercontent.com/synalp/NER/master/corpus/CoNLL-2003/eng.testa -O ./conll2003/eng.testa\n",
        "#!wget https://raw.githubusercontent.com/synalp/NER/master/corpus/CoNLL-2003/eng.testb -O ./conll2003/eng.testb\n",
        "#!wget https://raw.githubusercontent.com/synalp/NER/master/corpus/CoNLL-2003/eng.train -O ./conll2003/eng.train"
      ],
      "execution_count": 0,
      "outputs": []
    },
    {
      "cell_type": "code",
      "metadata": {
        "id": "THq1aZGrN9kt",
        "colab_type": "code",
        "colab": {}
      },
      "source": [
        "import os\n",
        "import logging\n",
        "import sys\n",
        "import torch"
      ],
      "execution_count": 0,
      "outputs": []
    },
    {
      "cell_type": "code",
      "metadata": {
        "id": "ABFCT9UiNxIm",
        "colab_type": "code",
        "colab": {}
      },
      "source": [
        "# Choosing cuda devices if there are multiple\n",
        "os.environ['CUDA_VISIBLE_DEVICES'] = '0'"
      ],
      "execution_count": 0,
      "outputs": []
    },
    {
      "cell_type": "code",
      "metadata": {
        "id": "BLepfGkANz71",
        "colab_type": "code",
        "colab": {}
      },
      "source": [
        "logging.basicConfig(stream=sys.stdout, level=logging.INFO)\n",
        "logger = logging.getLogger('sequence_tagger_bert')"
      ],
      "execution_count": 0,
      "outputs": []
    },
    {
      "cell_type": "code",
      "metadata": {
        "id": "_hmbiCRdN1m6",
        "colab_type": "code",
        "outputId": "531760eb-25ae-4316-e7f9-c8882549eeb4",
        "colab": {
          "base_uri": "https://localhost:8080/",
          "height": 34
        }
      },
      "source": [
        "device = torch.device('cuda')\n",
        "n_gpu = torch.cuda.device_count()\n",
        "\n",
        "for i in range(n_gpu):\n",
        "    print(torch.cuda.get_device_name(i))"
      ],
      "execution_count": 0,
      "outputs": [
        {
          "output_type": "stream",
          "text": [
            "Tesla P100-PCIE-16GB\n"
          ],
          "name": "stdout"
        }
      ]
    },
    {
      "cell_type": "code",
      "metadata": {
        "id": "f2f11SCfN31u",
        "colab_type": "code",
        "colab": {}
      },
      "source": [
        "CACHE_DIR = 'cache'\n",
        "BATCH_SIZE = 16\n",
        "PRED_BATCH_SIZE = 100\n",
        "MAX_LEN = 128\n",
        "MAX_N_EPOCHS = 5\n",
        "WEIGHT_DECAY = 0.01\n",
        "LEARNING_RATE = 5e-5"
      ],
      "execution_count": 0,
      "outputs": []
    },
    {
      "cell_type": "code",
      "metadata": {
        "id": "-aUuxr16N53n",
        "colab_type": "code",
        "outputId": "d5cbbc2b-b8ec-41d0-8023-1476db21faf6",
        "colab": {
          "base_uri": "https://localhost:8080/",
          "height": 34
        }
      },
      "source": [
        "torch.manual_seed(117)"
      ],
      "execution_count": 0,
      "outputs": [
        {
          "output_type": "execute_result",
          "data": {
            "text/plain": [
              "<torch._C.Generator at 0x7f82a1b5f1f0>"
            ]
          },
          "metadata": {
            "tags": []
          },
          "execution_count": 87
        }
      ]
    },
    {
      "cell_type": "code",
      "metadata": {
        "id": "ZDTF7tSLOF_z",
        "colab_type": "code",
        "colab": {}
      },
      "source": [
        "#from flair.datasets import ColumnCorpus\n",
        "#data_folder = 'conll2003'\n",
        "#corpus = ColumnCorpus(data_folder, \n",
        "#                      {0 : 'text', 3 : 'ner'},\n",
        "#                      train_file='eng.train',\n",
        "#                      test_file='eng.testb',\n",
        "#                      dev_file='eng.testa')\n",
        "#\n",
        "#print(corpus.obtain_statistics())"
      ],
      "execution_count": 0,
      "outputs": []
    },
    {
      "cell_type": "code",
      "metadata": {
        "id": "xBJ2QZwIc83d",
        "colab_type": "code",
        "outputId": "6f315abd-2bdf-4522-eb2d-c6ed54920227",
        "colab": {
          "base_uri": "https://localhost:8080/",
          "height": 739
        }
      },
      "source": [
        "from flair.datasets import ColumnCorpus\n",
        "data_folder = 'data'\n",
        "corpus = ColumnCorpus(data_folder, \n",
        "                      {0 : 'idx', 2 : 'text', 3 : 'ner' },\n",
        "                      train_file='#train_T016.txt',\n",
        "                      test_file='#test_T016.txt',\n",
        "                      dev_file='#test_T016.txt')\n",
        "\n",
        "print(corpus.train[1].to_tagged_string('ner'))\n",
        "#corpus = corpus.downsample(0.45)\n",
        "print(corpus.obtain_statistics())\n"
      ],
      "execution_count": 0,
      "outputs": [
        {
          "output_type": "stream",
          "text": [
            "2020-04-14 16:45:05,437 Reading data from data\n",
            "2020-04-14 16:45:05,440 Train: data/#train_T016.txt\n",
            "2020-04-14 16:45:05,442 Dev: data/#test_T016.txt\n",
            "2020-04-14 16:45:05,443 Test: data/#test_T016.txt\n",
            "group iii iv muscle afferents limit the intramuscular metabolic perturbation during whole body exercise in humans <T016>\n",
            "{\n",
            "    \"TRAIN\": {\n",
            "        \"dataset\": \"TRAIN\",\n",
            "        \"total_number_of_documents\": 34211,\n",
            "        \"number_of_documents_per_class\": {},\n",
            "        \"number_of_tokens_per_tag\": {},\n",
            "        \"number_of_tokens\": {\n",
            "            \"total\": 734107,\n",
            "            \"min\": 1,\n",
            "            \"max\": 168,\n",
            "            \"avg\": 21.45821519394347\n",
            "        }\n",
            "    },\n",
            "    \"TEST\": {\n",
            "        \"dataset\": \"TEST\",\n",
            "        \"total_number_of_documents\": 14115,\n",
            "        \"number_of_documents_per_class\": {},\n",
            "        \"number_of_tokens_per_tag\": {},\n",
            "        \"number_of_tokens\": {\n",
            "            \"total\": 302096,\n",
            "            \"min\": 1,\n",
            "            \"max\": 118,\n",
            "            \"avg\": 21.40247963159759\n",
            "        }\n",
            "    },\n",
            "    \"DEV\": {\n",
            "        \"dataset\": \"DEV\",\n",
            "        \"total_number_of_documents\": 14115,\n",
            "        \"number_of_documents_per_class\": {},\n",
            "        \"number_of_tokens_per_tag\": {},\n",
            "        \"number_of_tokens\": {\n",
            "            \"total\": 302096,\n",
            "            \"min\": 1,\n",
            "            \"max\": 118,\n",
            "            \"avg\": 21.40247963159759\n",
            "        }\n",
            "    }\n",
            "}\n"
          ],
          "name": "stdout"
        }
      ]
    },
    {
      "cell_type": "code",
      "metadata": {
        "id": "udSThSkPOJBg",
        "colab_type": "code",
        "outputId": "a351dd79-ed44-4425-a2c6-b6f936834f0f",
        "colab": {
          "base_uri": "https://localhost:8080/",
          "height": 524
        }
      },
      "source": [
        "from bert_sequence_tagger import SequenceTaggerBert, BertForTokenClassificationCustom\n",
        "from bert_sequence_tagger.bert_utils import make_bert_tag_dict_from_flair_corpus\n",
        "\n",
        "from pytorch_transformers import BertTokenizer, BertForTokenClassification\n",
        "\n",
        "\n",
        "bpe_tokenizer = BertTokenizer.from_pretrained('bert-base-cased', \n",
        "                                              cache_dir=CACHE_DIR, \n",
        "                                              do_lower_case=False)\n",
        "\n",
        "idx2tag, tag2idx = make_bert_tag_dict_from_flair_corpus(corpus)\n",
        "\n",
        "model = BertForTokenClassificationCustom.from_pretrained('bert-base-cased', \n",
        "                                                         cache_dir=CACHE_DIR, \n",
        "                                                         num_labels=len(tag2idx)).cuda()\n",
        "\n",
        "seq_tagger = SequenceTaggerBert(bert_model=model, bpe_tokenizer=bpe_tokenizer, \n",
        "                                idx2tag=idx2tag, tag2idx=tag2idx, max_len=MAX_LEN,\n",
        "                                pred_batch_size=PRED_BATCH_SIZE)"
      ],
      "execution_count": 0,
      "outputs": [
        {
          "output_type": "stream",
          "text": [
            "INFO:pytorch_transformers.tokenization_utils:loading file https://s3.amazonaws.com/models.huggingface.co/bert/bert-base-cased-vocab.txt from cache at cache/5e8a2b4893d13790ed4150ca1906be5f7a03d6c4ddf62296c383f6db42814db2.e13dbb970cb325137104fb2e5f36fe865f27746c6b526f6352861b1980eb80b1\n",
            "INFO:pytorch_transformers.modeling_utils:loading configuration file https://s3.amazonaws.com/models.huggingface.co/bert/bert-base-cased-config.json from cache at cache/b945b69218e98b3e2c95acf911789741307dec43c698d35fad11c1ae28bda352.3d5adf10d3445c36ce131f4c6416aa62e9b58e1af56b97664773f4858a46286e\n",
            "INFO:pytorch_transformers.modeling_utils:Model config {\n",
            "  \"architectures\": [\n",
            "    \"BertForMaskedLM\"\n",
            "  ],\n",
            "  \"attention_probs_dropout_prob\": 0.1,\n",
            "  \"finetuning_task\": null,\n",
            "  \"hidden_act\": \"gelu\",\n",
            "  \"hidden_dropout_prob\": 0.1,\n",
            "  \"hidden_size\": 768,\n",
            "  \"initializer_range\": 0.02,\n",
            "  \"intermediate_size\": 3072,\n",
            "  \"layer_norm_eps\": 1e-12,\n",
            "  \"max_position_embeddings\": 512,\n",
            "  \"num_attention_heads\": 12,\n",
            "  \"num_hidden_layers\": 12,\n",
            "  \"num_labels\": 3,\n",
            "  \"output_attentions\": false,\n",
            "  \"output_hidden_states\": false,\n",
            "  \"pruned_heads\": {},\n",
            "  \"torchscript\": false,\n",
            "  \"type_vocab_size\": 2,\n",
            "  \"vocab_size\": 28996\n",
            "}\n",
            "\n",
            "INFO:pytorch_transformers.modeling_utils:loading weights file https://s3.amazonaws.com/models.huggingface.co/bert/bert-base-cased-pytorch_model.bin from cache at cache/35d8b9d36faaf46728a0192d82bf7d00137490cd6074e8500778afed552a67e5.3fadbea36527ae472139fe84cddaa65454d7429f12d543d80bfc3ad70de55ac2\n",
            "INFO:pytorch_transformers.modeling_utils:Weights of BertForTokenClassificationCustom not initialized from pretrained model: ['classifier.weight', 'classifier.bias']\n",
            "INFO:pytorch_transformers.modeling_utils:Weights from pretrained model not used in BertForTokenClassificationCustom: ['cls.predictions.bias', 'cls.predictions.transform.dense.weight', 'cls.predictions.transform.dense.bias', 'cls.predictions.decoder.weight', 'cls.seq_relationship.weight', 'cls.seq_relationship.bias', 'cls.predictions.transform.LayerNorm.weight', 'cls.predictions.transform.LayerNorm.bias']\n"
          ],
          "name": "stdout"
        }
      ]
    },
    {
      "cell_type": "code",
      "metadata": {
        "id": "-o4auTcg8ync",
        "colab_type": "code",
        "outputId": "c17d2602-7a4d-4a40-fa4c-9e19008c2ab4",
        "colab": {
          "base_uri": "https://localhost:8080/",
          "height": 34
        }
      },
      "source": [
        "print(idx2tag,tag2idx)"
      ],
      "execution_count": 0,
      "outputs": [
        {
          "output_type": "stream",
          "text": [
            "['[PAD]', 'O', 'T016'] {'[PAD]': 0, 'O': 1, 'T016': 2}\n"
          ],
          "name": "stdout"
        }
      ]
    },
    {
      "cell_type": "code",
      "metadata": {
        "id": "PZvQrGq8W8j5",
        "colab_type": "code",
        "colab": {}
      },
      "source": [
        "from bert_sequence_tagger.bert_utils import get_model_parameters, prepare_flair_corpus\n",
        "from bert_sequence_tagger.model_trainer_bert import ModelTrainerBert\n",
        "from bert_sequence_tagger.metrics import f1_entity_level, f1_token_level, f1_per_token\n",
        "\n",
        "from pytorch_transformers import AdamW, WarmupLinearSchedule\n",
        "\n",
        "\n",
        "train_dataset = prepare_flair_corpus(corpus.train)\n",
        "val_dataset = prepare_flair_corpus(corpus.dev)"
      ],
      "execution_count": 0,
      "outputs": []
    },
    {
      "cell_type": "code",
      "metadata": {
        "id": "SI4kmX83YRym",
        "colab_type": "code",
        "colab": {}
      },
      "source": [
        "optimizer = AdamW(get_model_parameters(model), \n",
        "                  lr=LEARNING_RATE, betas=(0.9, 0.999), \n",
        "                  eps =1e-6, weight_decay=0.01, correct_bias=True)\n",
        "lr_scheduler = WarmupLinearSchedule(optimizer, warmup_steps=0.1, \n",
        "                                    t_total=(len(corpus.train) / BATCH_SIZE)*MAX_N_EPOCHS)"
      ],
      "execution_count": 0,
      "outputs": []
    },
    {
      "cell_type": "code",
      "metadata": {
        "id": "9ZhqkvlROL9C",
        "colab_type": "code",
        "outputId": "d1b62b22-3af5-4740-c8a7-12d5f787b24d",
        "colab": {
          "base_uri": "https://localhost:8080/",
          "height": 370
        }
      },
      "source": [
        "trainer = ModelTrainerBert(model=seq_tagger, \n",
        "                           optimizer=optimizer, \n",
        "                           lr_scheduler=lr_scheduler,\n",
        "                           train_dataset=train_dataset, \n",
        "                           val_dataset=val_dataset,\n",
        "                           update_scheduler='es',\n",
        "                           validation_metrics=[f1_entity_level],\n",
        "                           batch_size=BATCH_SIZE)\n",
        "\n",
        "\n",
        "\n",
        "trainer.train(epochs=MAX_N_EPOCHS)"
      ],
      "execution_count": 0,
      "outputs": [
        {
          "output_type": "stream",
          "text": [
            "\rEpoch:   0%|          | 0/5 [00:00<?, ?it/s]"
          ],
          "name": "stderr"
        },
        {
          "output_type": "stream",
          "text": [
            "INFO:sequence_tagger_bert:Current learning rate: 3.999657416923604e-05\n",
            "INFO:sequence_tagger_bert:Train loss: 0.0044785093973576575\n",
            "INFO:sequence_tagger_bert:Validation loss: 0.0008140847222920725\n",
            "INFO:sequence_tagger_bert:Validation metrics: (0.8067226890756303,)\n"
          ],
          "name": "stdout"
        },
        {
          "output_type": "stream",
          "text": [
            "\rEpoch:  20%|██        | 1/5 [07:32<30:10, 452.59s/it]"
          ],
          "name": "stderr"
        },
        {
          "output_type": "stream",
          "text": [
            "INFO:sequence_tagger_bert:Current learning rate: 2.9992680648265398e-05\n",
            "INFO:sequence_tagger_bert:Train loss: 0.0013441590049571043\n",
            "INFO:sequence_tagger_bert:Validation loss: 0.000861937698522217\n",
            "INFO:sequence_tagger_bert:Validation metrics: (0.8275862068965517,)\n"
          ],
          "name": "stdout"
        },
        {
          "output_type": "stream",
          "text": [
            "\rEpoch:  40%|████      | 2/5 [15:05<22:37, 452.66s/it]"
          ],
          "name": "stderr"
        },
        {
          "output_type": "stream",
          "text": [
            "INFO:sequence_tagger_bert:Current learning rate: 1.9988787127294753e-05\n",
            "INFO:sequence_tagger_bert:Train loss: 0.000915070700385841\n",
            "INFO:sequence_tagger_bert:Validation loss: 0.0007570709484061296\n",
            "INFO:sequence_tagger_bert:Validation metrics: (0.8240343347639485,)\n"
          ],
          "name": "stdout"
        },
        {
          "output_type": "stream",
          "text": [
            "\rEpoch:  60%|██████    | 3/5 [22:38<15:05, 452.74s/it]"
          ],
          "name": "stderr"
        },
        {
          "output_type": "stream",
          "text": [
            "INFO:sequence_tagger_bert:Current learning rate: 9.984893606324108e-06\n",
            "INFO:sequence_tagger_bert:Train loss: 0.0006938972561888696\n",
            "INFO:sequence_tagger_bert:Validation loss: 0.0006877122745389846\n",
            "INFO:sequence_tagger_bert:Validation metrics: (0.835820895522388,)\n"
          ],
          "name": "stdout"
        },
        {
          "output_type": "stream",
          "text": [
            "\rEpoch:  80%|████████  | 4/5 [30:13<07:33, 453.51s/it]"
          ],
          "name": "stderr"
        },
        {
          "output_type": "stream",
          "text": [
            "INFO:sequence_tagger_bert:Current learning rate: 0.0\n",
            "INFO:sequence_tagger_bert:Train loss: 0.0006084609995821907\n",
            "INFO:sequence_tagger_bert:Validation loss: 0.0007032770345328802\n",
            "INFO:sequence_tagger_bert:Validation metrics: (0.8347457627118645,)\n"
          ],
          "name": "stdout"
        },
        {
          "output_type": "stream",
          "text": [
            "Epoch: 100%|██████████| 5/5 [37:46<00:00, 453.38s/it]\n"
          ],
          "name": "stderr"
        }
      ]
    },
    {
      "cell_type": "code",
      "metadata": {
        "id": "s4eT3qvdOOW2",
        "colab_type": "code",
        "outputId": "79820387-266f-418b-cf14-259286dd6df7",
        "colab": {
          "base_uri": "https://localhost:8080/",
          "height": 50
        }
      },
      "source": [
        "test_dataset = prepare_flair_corpus(corpus.test)\n",
        "\n",
        "_, __, test_metrics = seq_tagger.predict(test_dataset, evaluate=True, \n",
        "                                         metrics=[f1_entity_level, f1_token_level, f1_per_token])\n",
        "logger.info(f'Entity-level f1: {test_metrics[1]}')\n",
        "logger.info(f'Token-level f1: {test_metrics[2]}')"
      ],
      "execution_count": 0,
      "outputs": [
        {
          "output_type": "stream",
          "text": [
            "INFO:sequence_tagger_bert:Entity-level f1: 0.8347457627118645\n",
            "INFO:sequence_tagger_bert:Token-level f1: 0.8350730688935282\n"
          ],
          "name": "stdout"
        }
      ]
    },
    {
      "cell_type": "code",
      "metadata": {
        "id": "nAd8SOHMpI6N",
        "colab_type": "code",
        "outputId": "830e6f69-3e86-4ee6-f9d9-e1f0d87ac055",
        "colab": {
          "base_uri": "https://localhost:8080/",
          "height": 501
        }
      },
      "source": [
        "from bert_sequence_tagger.plot_classification_report import plot_classification_report\n",
        "plot_classification_report(test_metrics[3])"
      ],
      "execution_count": 0,
      "outputs": [
        {
          "output_type": "stream",
          "text": [
            "[0.98, 0.73, 0.84]\n",
            "plotMat: [[0.98, 0.73, 0.84]]\n",
            "support: [274]\n"
          ],
          "name": "stdout"
        },
        {
          "output_type": "stream",
          "text": [
            "/content/bert_sequence_tagger/plot_classification_report.py:69: MatplotlibDeprecationWarning: \n",
            "The tick1On function was deprecated in Matplotlib 3.1 and will be removed in 3.3. Use Tick.tick1line.set_visible instead.\n",
            "  t.tick1On = False\n",
            "/content/bert_sequence_tagger/plot_classification_report.py:70: MatplotlibDeprecationWarning: \n",
            "The tick2On function was deprecated in Matplotlib 3.1 and will be removed in 3.3. Use Tick.tick2line.set_visible instead.\n",
            "  t.tick2On = False\n",
            "/content/bert_sequence_tagger/plot_classification_report.py:72: MatplotlibDeprecationWarning: \n",
            "The tick1On function was deprecated in Matplotlib 3.1 and will be removed in 3.3. Use Tick.tick1line.set_visible instead.\n",
            "  t.tick1On = False\n",
            "/content/bert_sequence_tagger/plot_classification_report.py:73: MatplotlibDeprecationWarning: \n",
            "The tick2On function was deprecated in Matplotlib 3.1 and will be removed in 3.3. Use Tick.tick2line.set_visible instead.\n",
            "  t.tick2On = False\n"
          ],
          "name": "stderr"
        },
        {
          "output_type": "display_data",
          "data": {
            "image/png": "[encoded data removed]",
            "text/plain": [
              "<Figure size 708.661x226.772 with 2 Axes>"
            ]
          },
          "metadata": {
            "tags": [],
            "needs_background": "light"
          }
        }
      ]
    },
    {
      "cell_type": "code",
      "metadata": {
        "id": "LdVq5WKjOSDr",
        "colab_type": "code",
        "outputId": "c3e57bbe-6c90-400d-a6e9-4c3340bc2cc3",
        "colab": {
          "base_uri": "https://localhost:8080/",
          "height": 67
        }
      },
      "source": [
        "seq_tagger.predict([['We', 'are', 'living', 'in', 'New', 'York', 'city', '.'],\n",
        "                    ['Satya', 'Narayana', 'Nadella', 'is', 'an', 'engineer', 'and', 'business', 'executive', '.']])"
      ],
      "execution_count": 0,
      "outputs": [
        {
          "output_type": "execute_result",
          "data": {
            "text/plain": [
              "([['O', 'O', 'O', 'O', 'O', 'O', 'O', 'O'],\n",
              "  ['O', 'O', 'O', 'O', 'O', 'O', 'O', 'O', 'O', 'O']],\n",
              " [7.0453057, 7.595412])"
            ]
          },
          "metadata": {
            "tags": []
          },
          "execution_count": 97
        }
      ]
    },
    {
      "cell_type": "code",
      "metadata": {
        "id": "hzStYYnJOTgn",
        "colab_type": "code",
        "colab": {}
      },
      "source": [
        "seq_tagger.save_serialize('./bert_model_T016')"
      ],
      "execution_count": 0,
      "outputs": []
    },
    {
      "cell_type": "code",
      "metadata": {
        "id": "vTFmXlrJOWFO",
        "colab_type": "code",
        "outputId": "520dcd31-351d-479d-ac03-648167519605",
        "colab": {
          "base_uri": "https://localhost:8080/",
          "height": 70
        }
      },
      "source": [
        "from keras.preprocessing.text import text_to_word_sequence\n",
        "para = \"Chikungunya virus ( CHIKV ) is a mosquito. DCTN4 as a modifier of chronic Pseudomonas aeruginosa infection in cystic fibrosis. cftr defect\"\n",
        "para = para.split('.')\n",
        "para = [text_to_word_sequence(x) for x in para]\n",
        "print(para)\n",
        "res,prob = seq_tagger.predict(para)\n",
        "print(res)"
      ],
      "execution_count": 0,
      "outputs": [
        {
          "output_type": "stream",
          "text": [
            "[['chikungunya', 'virus', 'chikv', 'is', 'a', 'mosquito'], ['dctn4', 'as', 'a', 'modifier', 'of', 'chronic', 'pseudomonas', 'aeruginosa', 'infection', 'in', 'cystic', 'fibrosis'], ['cftr', 'defect']]\n",
            "[['O', 'O', 'O', 'O', 'O', 'O'], ['O', 'O', 'O', 'O', 'O', 'O', 'O', 'O', 'O', 'O', 'O', 'O'], ['O', 'O']]\n"
          ],
          "name": "stdout"
        }
      ]
    },
    {
      "cell_type": "code",
      "metadata": {
        "id": "Fswu6yQVSJ1E",
        "colab_type": "code",
        "colab": {}
      },
      "source": [
        "import csv\n",
        "check_data = open(\"data/labelled_data_T016.txt\")\n",
        "\n",
        "csv_file = open(\"data/res_check_T016.csv\",'w')\n",
        "writer = csv.writer(csv_file)\n",
        "\n",
        "No_of_mistakes = 0\n",
        "No_of_lines = 0\n",
        "\n",
        "switch = True\n",
        "words=[]\n",
        "tags=[]\n",
        "for line in check_data.readlines():\n",
        "  if len(line)==0:\n",
        "    coninue\n",
        "  elif switch:\n",
        "    words = line.split()\n",
        "    switch = not switch\n",
        "  else:\n",
        "    tags = line.split()\n",
        "    switch = not switch\n",
        "    res , prob = seq_tagger.predict([words])\n",
        "    res = res[0]\n",
        "    No_of_lines += 1\n",
        "    if No_of_lines % 100 == 0:\n",
        "      print(\"Line = \",No_of_lines)\n",
        "    if res != tags:\n",
        "      writer.writerow(words)\n",
        "      writer.writerow(tags)\n",
        "      writer.writerow(res)\n",
        "      writer.writerow([''])\n",
        "      No_of_mistakes +=1\n",
        "      if No_of_mistakes % 10 == 0:\n",
        "        print('Mistakes = ',No_of_mistakes)\n"
      ],
      "execution_count": 0,
      "outputs": []
    },
    {
      "cell_type": "code",
      "metadata": {
        "id": "RYPpsjj91Po3",
        "colab_type": "code",
        "colab": {}
      },
      "source": [
        ""
      ],
      "execution_count": 0,
      "outputs": []
    }
  ]
}