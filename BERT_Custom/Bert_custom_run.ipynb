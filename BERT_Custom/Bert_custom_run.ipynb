{
  "nbformat": 4,
  "nbformat_minor": 0,
  "metadata": {
    "colab": {
      "name": "Bert_custom_run.ipynb",
      "provenance": [],
      "collapsed_sections": []
    },
    "kernelspec": {
      "name": "python3",
      "display_name": "Python 3"
    },
    "accelerator": "GPU"
  },
  "cells": [
    {
      "cell_type": "code",
      "metadata": {
        "id": "-l-TM6wFzqe4",
        "colab_type": "code",
        "colab": {
          "base_uri": "https://localhost:8080/",
          "height": 34
        },
        "cellView": "form",
        "outputId": "50c8d045-2c68-4de7-d614-dec94dee8267"
      },
      "source": [
        " #@title Temp and ignore\n",
        "#creates train_dataset\n",
        "import pandas as pd\n",
        "train = []\n",
        "data=[]\n",
        "tags=[]\n",
        "text = True\n",
        "fr = open(\"labelled_data.txt\")\n",
        "for i in fr.readlines():\n",
        "  if len(i)==0:\n",
        "    continue\n",
        "  else:\n",
        "    #print(i)\n",
        "    if text:\n",
        "      data = i.split()\n",
        "      text = not text\n",
        "    else:\n",
        "      tags = i.split()\n",
        "      #print(data,tags)\n",
        "      tmp = [data,tags]\n",
        "      train.append(tuple(tmp))\n",
        "      text = not text\n",
        "test = train\n",
        "tags_vals = []\n",
        "for tag in train:\n",
        "  tags_vals.extend(tag[1])\n",
        "tags_vals = list(set(tags_vals))\n",
        "tag2id = {t: i for i, t in enumerate(tags_vals)}\n",
        "print(tag2id)"
      ],
      "execution_count": 54,
      "outputs": [
        {
          "output_type": "stream",
          "text": [
            "{'T007': 0, 'T047': 1, '0': 2}\n"
          ],
          "name": "stdout"
        }
      ]
    },
    {
      "cell_type": "code",
      "metadata": {
        "id": "Q67hSKqhJ8lm",
        "colab_type": "code",
        "outputId": "0e921f40-84ee-49dd-a053-77bec1790157",
        "colab": {
          "base_uri": "https://localhost:8080/",
          "height": 1000
        }
      },
      "source": [
        "!pip install pytorch_transformers flair seqeval"
      ],
      "execution_count": 93,
      "outputs": [
        {
          "output_type": "stream",
          "text": [
            "Requirement already satisfied: pytorch_transformers in /usr/local/lib/python3.6/dist-packages (1.2.0)\n",
            "Requirement already satisfied: flair in /usr/local/lib/python3.6/dist-packages (0.4.5)\n",
            "Requirement already satisfied: seqeval in /usr/local/lib/python3.6/dist-packages (0.0.12)\n",
            "Requirement already satisfied: requests in /usr/local/lib/python3.6/dist-packages (from pytorch_transformers) (2.21.0)\n",
            "Requirement already satisfied: tqdm in /usr/local/lib/python3.6/dist-packages (from pytorch_transformers) (4.38.0)\n",
            "Requirement already satisfied: regex in /usr/local/lib/python3.6/dist-packages (from pytorch_transformers) (2019.12.20)\n",
            "Requirement already satisfied: torch>=1.0.0 in /usr/local/lib/python3.6/dist-packages (from pytorch_transformers) (1.4.0)\n",
            "Requirement already satisfied: sentencepiece in /usr/local/lib/python3.6/dist-packages (from pytorch_transformers) (0.1.85)\n",
            "Requirement already satisfied: numpy in /usr/local/lib/python3.6/dist-packages (from pytorch_transformers) (1.18.2)\n",
            "Requirement already satisfied: sacremoses in /usr/local/lib/python3.6/dist-packages (from pytorch_transformers) (0.0.38)\n",
            "Requirement already satisfied: boto3 in /usr/local/lib/python3.6/dist-packages (from pytorch_transformers) (1.12.23)\n",
            "Requirement already satisfied: mpld3==0.3 in /usr/local/lib/python3.6/dist-packages (from flair) (0.3)\n",
            "Requirement already satisfied: langdetect in /usr/local/lib/python3.6/dist-packages (from flair) (1.0.8)\n",
            "Requirement already satisfied: scikit-learn>=0.21.3 in /usr/local/lib/python3.6/dist-packages (from flair) (0.22.2.post1)\n",
            "Requirement already satisfied: matplotlib>=2.2.3 in /usr/local/lib/python3.6/dist-packages (from flair) (3.2.0)\n",
            "Requirement already satisfied: sqlitedict>=1.6.0 in /usr/local/lib/python3.6/dist-packages (from flair) (1.6.0)\n",
            "Requirement already satisfied: tabulate in /usr/local/lib/python3.6/dist-packages (from flair) (0.8.6)\n",
            "Requirement already satisfied: bpemb>=0.2.9 in /usr/local/lib/python3.6/dist-packages (from flair) (0.3.0)\n",
            "Requirement already satisfied: hyperopt>=0.1.1 in /usr/local/lib/python3.6/dist-packages (from flair) (0.1.2)\n",
            "Requirement already satisfied: segtok>=1.5.7 in /usr/local/lib/python3.6/dist-packages (from flair) (1.5.7)\n",
            "Requirement already satisfied: urllib3<1.25,>=1.20 in /usr/local/lib/python3.6/dist-packages (from flair) (1.24.3)\n",
            "Requirement already satisfied: transformers>=2.3.0 in /usr/local/lib/python3.6/dist-packages (from flair) (2.5.1)\n",
            "Requirement already satisfied: deprecated>=1.2.4 in /usr/local/lib/python3.6/dist-packages (from flair) (1.2.7)\n",
            "Requirement already satisfied: gensim>=3.4.0 in /usr/local/lib/python3.6/dist-packages (from flair) (3.6.0)\n",
            "Requirement already satisfied: python-dateutil>=2.6.1 in /usr/local/lib/python3.6/dist-packages (from flair) (2.8.1)\n",
            "Requirement already satisfied: pytest>=5.3.2 in /usr/local/lib/python3.6/dist-packages (from flair) (5.4.1)\n",
            "Requirement already satisfied: Keras>=2.2.4 in /usr/local/lib/python3.6/dist-packages (from seqeval) (2.2.5)\n",
            "Requirement already satisfied: idna<2.9,>=2.5 in /usr/local/lib/python3.6/dist-packages (from requests->pytorch_transformers) (2.8)\n",
            "Requirement already satisfied: certifi>=2017.4.17 in /usr/local/lib/python3.6/dist-packages (from requests->pytorch_transformers) (2019.11.28)\n",
            "Requirement already satisfied: chardet<3.1.0,>=3.0.2 in /usr/local/lib/python3.6/dist-packages (from requests->pytorch_transformers) (3.0.4)\n",
            "Requirement already satisfied: click in /usr/local/lib/python3.6/dist-packages (from sacremoses->pytorch_transformers) (7.1.1)\n",
            "Requirement already satisfied: six in /usr/local/lib/python3.6/dist-packages (from sacremoses->pytorch_transformers) (1.12.0)\n",
            "Requirement already satisfied: joblib in /usr/local/lib/python3.6/dist-packages (from sacremoses->pytorch_transformers) (0.14.1)\n",
            "Requirement already satisfied: jmespath<1.0.0,>=0.7.1 in /usr/local/lib/python3.6/dist-packages (from boto3->pytorch_transformers) (0.9.5)\n",
            "Requirement already satisfied: botocore<1.16.0,>=1.15.23 in /usr/local/lib/python3.6/dist-packages (from boto3->pytorch_transformers) (1.15.23)\n",
            "Requirement already satisfied: s3transfer<0.4.0,>=0.3.0 in /usr/local/lib/python3.6/dist-packages (from boto3->pytorch_transformers) (0.3.3)\n",
            "Requirement already satisfied: scipy>=0.17.0 in /usr/local/lib/python3.6/dist-packages (from scikit-learn>=0.21.3->flair) (1.4.1)\n",
            "Requirement already satisfied: pyparsing!=2.0.4,!=2.1.2,!=2.1.6,>=2.0.1 in /usr/local/lib/python3.6/dist-packages (from matplotlib>=2.2.3->flair) (2.4.6)\n",
            "Requirement already satisfied: kiwisolver>=1.0.1 in /usr/local/lib/python3.6/dist-packages (from matplotlib>=2.2.3->flair) (1.1.0)\n",
            "Requirement already satisfied: cycler>=0.10 in /usr/local/lib/python3.6/dist-packages (from matplotlib>=2.2.3->flair) (0.10.0)\n",
            "Requirement already satisfied: pymongo in /usr/local/lib/python3.6/dist-packages (from hyperopt>=0.1.1->flair) (3.10.1)\n",
            "Requirement already satisfied: future in /usr/local/lib/python3.6/dist-packages (from hyperopt>=0.1.1->flair) (0.16.0)\n",
            "Requirement already satisfied: networkx in /usr/local/lib/python3.6/dist-packages (from hyperopt>=0.1.1->flair) (2.4)\n",
            "Requirement already satisfied: filelock in /usr/local/lib/python3.6/dist-packages (from transformers>=2.3.0->flair) (3.0.12)\n",
            "Requirement already satisfied: tokenizers==0.5.2 in /usr/local/lib/python3.6/dist-packages (from transformers>=2.3.0->flair) (0.5.2)\n",
            "Requirement already satisfied: wrapt<2,>=1.10 in /usr/local/lib/python3.6/dist-packages (from deprecated>=1.2.4->flair) (1.12.1)\n",
            "Requirement already satisfied: smart-open>=1.2.1 in /usr/local/lib/python3.6/dist-packages (from gensim>=3.4.0->flair) (1.10.0)\n",
            "Requirement already satisfied: importlib-metadata>=0.12; python_version < \"3.8\" in /usr/local/lib/python3.6/dist-packages (from pytest>=5.3.2->flair) (1.5.0)\n",
            "Requirement already satisfied: more-itertools>=4.0.0 in /usr/local/lib/python3.6/dist-packages (from pytest>=5.3.2->flair) (8.2.0)\n",
            "Requirement already satisfied: packaging in /usr/local/lib/python3.6/dist-packages (from pytest>=5.3.2->flair) (20.3)\n",
            "Requirement already satisfied: wcwidth in /usr/local/lib/python3.6/dist-packages (from pytest>=5.3.2->flair) (0.1.8)\n",
            "Requirement already satisfied: pluggy<1.0,>=0.12 in /usr/local/lib/python3.6/dist-packages (from pytest>=5.3.2->flair) (0.13.1)\n",
            "Requirement already satisfied: py>=1.5.0 in /usr/local/lib/python3.6/dist-packages (from pytest>=5.3.2->flair) (1.8.1)\n",
            "Requirement already satisfied: attrs>=17.4.0 in /usr/local/lib/python3.6/dist-packages (from pytest>=5.3.2->flair) (19.3.0)\n",
            "Requirement already satisfied: pyyaml in /usr/local/lib/python3.6/dist-packages (from Keras>=2.2.4->seqeval) (3.13)\n",
            "Requirement already satisfied: keras-preprocessing>=1.1.0 in /usr/local/lib/python3.6/dist-packages (from Keras>=2.2.4->seqeval) (1.1.0)\n",
            "Requirement already satisfied: h5py in /usr/local/lib/python3.6/dist-packages (from Keras>=2.2.4->seqeval) (2.8.0)\n",
            "Requirement already satisfied: keras-applications>=1.0.8 in /usr/local/lib/python3.6/dist-packages (from Keras>=2.2.4->seqeval) (1.0.8)\n",
            "Requirement already satisfied: docutils<0.16,>=0.10 in /usr/local/lib/python3.6/dist-packages (from botocore<1.16.0,>=1.15.23->boto3->pytorch_transformers) (0.15.2)\n",
            "Requirement already satisfied: setuptools in /usr/local/lib/python3.6/dist-packages (from kiwisolver>=1.0.1->matplotlib>=2.2.3->flair) (46.0.0)\n",
            "Requirement already satisfied: decorator>=4.3.0 in /usr/local/lib/python3.6/dist-packages (from networkx->hyperopt>=0.1.1->flair) (4.4.2)\n",
            "Requirement already satisfied: google-cloud-storage in /usr/local/lib/python3.6/dist-packages (from smart-open>=1.2.1->gensim>=3.4.0->flair) (1.16.2)\n",
            "Requirement already satisfied: zipp>=0.5 in /usr/local/lib/python3.6/dist-packages (from importlib-metadata>=0.12; python_version < \"3.8\"->pytest>=5.3.2->flair) (3.1.0)\n",
            "Requirement already satisfied: google-cloud-core<2.0dev,>=1.0.0 in /usr/local/lib/python3.6/dist-packages (from google-cloud-storage->smart-open>=1.2.1->gensim>=3.4.0->flair) (1.0.3)\n",
            "Requirement already satisfied: google-auth>=1.2.0 in /usr/local/lib/python3.6/dist-packages (from google-cloud-storage->smart-open>=1.2.1->gensim>=3.4.0->flair) (1.7.2)\n",
            "Requirement already satisfied: google-resumable-media<0.5.0dev,>=0.3.1 in /usr/local/lib/python3.6/dist-packages (from google-cloud-storage->smart-open>=1.2.1->gensim>=3.4.0->flair) (0.4.1)\n",
            "Requirement already satisfied: google-api-core<2.0.0dev,>=1.14.0 in /usr/local/lib/python3.6/dist-packages (from google-cloud-core<2.0dev,>=1.0.0->google-cloud-storage->smart-open>=1.2.1->gensim>=3.4.0->flair) (1.16.0)\n",
            "Requirement already satisfied: rsa<4.1,>=3.1.4 in /usr/local/lib/python3.6/dist-packages (from google-auth>=1.2.0->google-cloud-storage->smart-open>=1.2.1->gensim>=3.4.0->flair) (4.0)\n",
            "Requirement already satisfied: pyasn1-modules>=0.2.1 in /usr/local/lib/python3.6/dist-packages (from google-auth>=1.2.0->google-cloud-storage->smart-open>=1.2.1->gensim>=3.4.0->flair) (0.2.8)\n",
            "Requirement already satisfied: cachetools<3.2,>=2.0.0 in /usr/local/lib/python3.6/dist-packages (from google-auth>=1.2.0->google-cloud-storage->smart-open>=1.2.1->gensim>=3.4.0->flair) (3.1.1)\n",
            "Requirement already satisfied: pytz in /usr/local/lib/python3.6/dist-packages (from google-api-core<2.0.0dev,>=1.14.0->google-cloud-core<2.0dev,>=1.0.0->google-cloud-storage->smart-open>=1.2.1->gensim>=3.4.0->flair) (2018.9)\n",
            "Requirement already satisfied: googleapis-common-protos<2.0dev,>=1.6.0 in /usr/local/lib/python3.6/dist-packages (from google-api-core<2.0.0dev,>=1.14.0->google-cloud-core<2.0dev,>=1.0.0->google-cloud-storage->smart-open>=1.2.1->gensim>=3.4.0->flair) (1.51.0)\n",
            "Requirement already satisfied: protobuf>=3.4.0 in /usr/local/lib/python3.6/dist-packages (from google-api-core<2.0.0dev,>=1.14.0->google-cloud-core<2.0dev,>=1.0.0->google-cloud-storage->smart-open>=1.2.1->gensim>=3.4.0->flair) (3.10.0)\n",
            "Requirement already satisfied: pyasn1>=0.1.3 in /usr/local/lib/python3.6/dist-packages (from rsa<4.1,>=3.1.4->google-auth>=1.2.0->google-cloud-storage->smart-open>=1.2.1->gensim>=3.4.0->flair) (0.4.8)\n"
          ],
          "name": "stdout"
        }
      ]
    },
    {
      "cell_type": "code",
      "metadata": {
        "id": "Pd_Z1JJeNYi_",
        "colab_type": "code",
        "colab": {}
      },
      "source": [
        "#!mkdir -p conll2003\n",
        "#!wget https://raw.githubusercontent.com/synalp/NER/master/corpus/CoNLL-2003/eng.testa -O ./conll2003/eng.testa\n",
        "#!wget https://raw.githubusercontent.com/synalp/NER/master/corpus/CoNLL-2003/eng.testb -O ./conll2003/eng.testb\n",
        "#!wget https://raw.githubusercontent.com/synalp/NER/master/corpus/CoNLL-2003/eng.train -O ./conll2003/eng.train"
      ],
      "execution_count": 0,
      "outputs": []
    },
    {
      "cell_type": "code",
      "metadata": {
        "id": "THq1aZGrN9kt",
        "colab_type": "code",
        "colab": {}
      },
      "source": [
        "import os\n",
        "import logging\n",
        "import sys\n",
        "import torch"
      ],
      "execution_count": 0,
      "outputs": []
    },
    {
      "cell_type": "code",
      "metadata": {
        "id": "ABFCT9UiNxIm",
        "colab_type": "code",
        "colab": {}
      },
      "source": [
        "# Choosing cuda devices if there are multiple\n",
        "os.environ['CUDA_VISIBLE_DEVICES'] = '0'"
      ],
      "execution_count": 0,
      "outputs": []
    },
    {
      "cell_type": "code",
      "metadata": {
        "id": "BLepfGkANz71",
        "colab_type": "code",
        "colab": {}
      },
      "source": [
        "logging.basicConfig(stream=sys.stdout, level=logging.INFO)\n",
        "logger = logging.getLogger('sequence_tagger_bert')"
      ],
      "execution_count": 0,
      "outputs": []
    },
    {
      "cell_type": "code",
      "metadata": {
        "id": "_hmbiCRdN1m6",
        "colab_type": "code",
        "outputId": "680cfe8e-4db0-4bee-a2bb-a68fac66dfbf",
        "colab": {
          "base_uri": "https://localhost:8080/",
          "height": 34
        }
      },
      "source": [
        "device = torch.device('cuda')\n",
        "n_gpu = torch.cuda.device_count()\n",
        "\n",
        "for i in range(n_gpu):\n",
        "    print(torch.cuda.get_device_name(i))"
      ],
      "execution_count": 98,
      "outputs": [
        {
          "output_type": "stream",
          "text": [
            "Tesla P4\n"
          ],
          "name": "stdout"
        }
      ]
    },
    {
      "cell_type": "code",
      "metadata": {
        "id": "f2f11SCfN31u",
        "colab_type": "code",
        "colab": {}
      },
      "source": [
        "CACHE_DIR = 'cache'\n",
        "BATCH_SIZE = 16\n",
        "PRED_BATCH_SIZE = 100\n",
        "MAX_LEN = 128\n",
        "MAX_N_EPOCHS = 4\n",
        "WEIGHT_DECAY = 0.01\n",
        "LEARNING_RATE = 5e-5"
      ],
      "execution_count": 0,
      "outputs": []
    },
    {
      "cell_type": "code",
      "metadata": {
        "id": "-aUuxr16N53n",
        "colab_type": "code",
        "outputId": "dd001b73-8072-4f3e-f8a9-2fe5df8938ab",
        "colab": {
          "base_uri": "https://localhost:8080/",
          "height": 34
        }
      },
      "source": [
        "torch.manual_seed(117)"
      ],
      "execution_count": 100,
      "outputs": [
        {
          "output_type": "execute_result",
          "data": {
            "text/plain": [
              "<torch._C.Generator at 0x7fd2c01fb330>"
            ]
          },
          "metadata": {
            "tags": []
          },
          "execution_count": 100
        }
      ]
    },
    {
      "cell_type": "code",
      "metadata": {
        "id": "ZDTF7tSLOF_z",
        "colab_type": "code",
        "colab": {}
      },
      "source": [
        "#from flair.datasets import ColumnCorpus\n",
        "#data_folder = 'conll2003'\n",
        "#corpus = ColumnCorpus(data_folder, \n",
        "#                      {0 : 'text', 3 : 'ner'},\n",
        "#                      train_file='eng.train',\n",
        "#                      test_file='eng.testb',\n",
        "#                      dev_file='eng.testa')\n",
        "#\n",
        "#print(corpus.obtain_statistics())\n",
        "#print(corpus.dev[1].to_tagged_string('ner'))"
      ],
      "execution_count": 0,
      "outputs": []
    },
    {
      "cell_type": "code",
      "metadata": {
        "id": "xBJ2QZwIc83d",
        "colab_type": "code",
        "colab": {
          "base_uri": "https://localhost:8080/",
          "height": 125
        },
        "outputId": "780b8346-e7a8-4562-81a3-6ff82bfc61fc"
      },
      "source": [
        "from flair.datasets import ColumnCorpus\n",
        "data_folder = 'conll2003'\n",
        "corpus = ColumnCorpus(data_folder, \n",
        "                      {0 : 'idx', 2 : 'text', 3 : 'ner' },\n",
        "                      train_file='dataset.txt',\n",
        "                      test_file='dataset.txt',\n",
        "                      dev_file='dataset.txt')\n",
        "print(corpus.train[1].to_tagged_string('ner'))"
      ],
      "execution_count": 102,
      "outputs": [
        {
          "output_type": "stream",
          "text": [
            "2020-03-21 14:31:48,838 Reading data from conll2003\n",
            "2020-03-21 14:31:48,840 Train: conll2003/dataset.txt\n",
            "2020-03-21 14:31:48,842 Dev: conll2003/dataset.txt\n",
            "2020-03-21 14:31:48,843 Test: conll2003/dataset.txt\n",
            "Pseudomonas <T047> aeruginosa <T047> (Pa) <T047> infection <T047> in cystic <T047> fibrosis <T047> (CF) patients is associated with worse long-term pulmonary <T047> disease <T047> and shorter \"survival,\" and chronic <T047> Pa <T047> infection <T047> (CPA) is associated with reduced lung \"function,\" faster rate of lung \"decline,\" increased rates of exacerbations and shorter survival\n"
          ],
          "name": "stdout"
        }
      ]
    },
    {
      "cell_type": "code",
      "metadata": {
        "id": "udSThSkPOJBg",
        "colab_type": "code",
        "outputId": "1042eb17-38ca-49bc-88b4-b767b33265fc",
        "colab": {
          "base_uri": "https://localhost:8080/",
          "height": 547
        }
      },
      "source": [
        "from bert_sequence_tagger import SequenceTaggerBert, BertForTokenClassificationCustom\n",
        "from bert_sequence_tagger.bert_utils import make_bert_tag_dict_from_flair_corpus\n",
        "\n",
        "from pytorch_transformers import BertTokenizer, BertForTokenClassification\n",
        "\n",
        "\n",
        "bpe_tokenizer = BertTokenizer.from_pretrained('bert-base-cased', \n",
        "                                              cache_dir=CACHE_DIR, \n",
        "                                              do_lower_case=False)\n",
        "\n",
        "idx2tag, tag2idx = make_bert_tag_dict_from_flair_corpus(corpus)\n",
        "\n",
        "model = BertForTokenClassificationCustom.from_pretrained('bert-base-cased', \n",
        "                                                         cache_dir=CACHE_DIR, \n",
        "                                                         num_labels=len(tag2idx)).cuda()\n",
        "\n",
        "seq_tagger = SequenceTaggerBert(bert_model=model, bpe_tokenizer=bpe_tokenizer, \n",
        "                                idx2tag=idx2tag, tag2idx=tag2idx, max_len=MAX_LEN,\n",
        "                                pred_batch_size=PRED_BATCH_SIZE)"
      ],
      "execution_count": 103,
      "outputs": [
        {
          "output_type": "stream",
          "text": [
            "INFO:pytorch_transformers.tokenization_utils:loading file https://s3.amazonaws.com/models.huggingface.co/bert/bert-base-cased-vocab.txt from cache at cache/5e8a2b4893d13790ed4150ca1906be5f7a03d6c4ddf62296c383f6db42814db2.e13dbb970cb325137104fb2e5f36fe865f27746c6b526f6352861b1980eb80b1\n",
            "INFO:pytorch_transformers.modeling_utils:loading configuration file https://s3.amazonaws.com/models.huggingface.co/bert/bert-base-cased-config.json from cache at cache/b945b69218e98b3e2c95acf911789741307dec43c698d35fad11c1ae28bda352.3d5adf10d3445c36ce131f4c6416aa62e9b58e1af56b97664773f4858a46286e\n",
            "INFO:pytorch_transformers.modeling_utils:Model config {\n",
            "  \"architectures\": [\n",
            "    \"BertForMaskedLM\"\n",
            "  ],\n",
            "  \"attention_probs_dropout_prob\": 0.1,\n",
            "  \"finetuning_task\": null,\n",
            "  \"hidden_act\": \"gelu\",\n",
            "  \"hidden_dropout_prob\": 0.1,\n",
            "  \"hidden_size\": 768,\n",
            "  \"initializer_range\": 0.02,\n",
            "  \"intermediate_size\": 3072,\n",
            "  \"layer_norm_eps\": 1e-12,\n",
            "  \"max_position_embeddings\": 512,\n",
            "  \"num_attention_heads\": 12,\n",
            "  \"num_hidden_layers\": 12,\n",
            "  \"num_labels\": 9,\n",
            "  \"output_attentions\": false,\n",
            "  \"output_hidden_states\": false,\n",
            "  \"pruned_heads\": {},\n",
            "  \"torchscript\": false,\n",
            "  \"type_vocab_size\": 2,\n",
            "  \"vocab_size\": 28996\n",
            "}\n",
            "\n",
            "INFO:pytorch_transformers.modeling_utils:loading weights file https://s3.amazonaws.com/models.huggingface.co/bert/bert-base-cased-pytorch_model.bin from cache at cache/35d8b9d36faaf46728a0192d82bf7d00137490cd6074e8500778afed552a67e5.3fadbea36527ae472139fe84cddaa65454d7429f12d543d80bfc3ad70de55ac2\n",
            "INFO:pytorch_transformers.modeling_utils:Weights of BertForTokenClassificationCustom not initialized from pretrained model: ['classifier.weight', 'classifier.bias']\n",
            "INFO:pytorch_transformers.modeling_utils:Weights from pretrained model not used in BertForTokenClassificationCustom: ['cls.predictions.bias', 'cls.predictions.transform.dense.weight', 'cls.predictions.transform.dense.bias', 'cls.predictions.decoder.weight', 'cls.seq_relationship.weight', 'cls.seq_relationship.bias', 'cls.predictions.transform.LayerNorm.weight', 'cls.predictions.transform.LayerNorm.bias']\n"
          ],
          "name": "stdout"
        }
      ]
    },
    {
      "cell_type": "code",
      "metadata": {
        "id": "-o4auTcg8ync",
        "colab_type": "code",
        "colab": {
          "base_uri": "https://localhost:8080/",
          "height": 54
        },
        "outputId": "202b4c4f-579b-46e4-8f79-46130e3a0231"
      },
      "source": [
        "print(idx2tag,tag2idx)"
      ],
      "execution_count": 104,
      "outputs": [
        {
          "output_type": "stream",
          "text": [
            "['[PAD]', 'O', 'T047', '\"T019,T047\"', 'T007', 'T005', 'T016', '\"T007,T204\"', '\"T047,T190\"'] {'[PAD]': 0, 'O': 1, 'T047': 2, '\"T019,T047\"': 3, 'T007': 4, 'T005': 5, 'T016': 6, '\"T007,T204\"': 7, '\"T047,T190\"': 8}\n"
          ],
          "name": "stdout"
        }
      ]
    },
    {
      "cell_type": "code",
      "metadata": {
        "id": "PZvQrGq8W8j5",
        "colab_type": "code",
        "outputId": "690eb444-849e-408a-9de9-04bff85b2876",
        "colab": {
          "base_uri": "https://localhost:8080/",
          "height": 193
        }
      },
      "source": [
        "from bert_sequence_tagger.bert_utils import get_model_parameters, prepare_flair_corpus\n",
        "from bert_sequence_tagger.model_trainer_bert import ModelTrainerBert\n",
        "from bert_sequence_tagger.metrics import f1_entity_level, f1_token_level\n",
        "\n",
        "from pytorch_transformers import AdamW, WarmupLinearSchedule\n",
        "\n",
        "\n",
        "train_dataset = prepare_flair_corpus(corpus.train)\n",
        "val_dataset = prepare_flair_corpus(corpus.dev)\n",
        "print(train_dataset)"
      ],
      "execution_count": 105,
      "outputs": [
        {
          "output_type": "stream",
          "text": [
            "IOPub data rate exceeded.\n",
            "The notebook server will temporarily stop sending output\n",
            "to the client in order to avoid crashing it.\n",
            "To change this limit, set the config variable\n",
            "`--NotebookApp.iopub_data_rate_limit`.\n",
            "\n",
            "Current values:\n",
            "NotebookApp.iopub_data_rate_limit=1000000.0 (bytes/sec)\n",
            "NotebookApp.rate_limit_window=3.0 (secs)\n",
            "\n"
          ],
          "name": "stderr"
        }
      ]
    },
    {
      "cell_type": "code",
      "metadata": {
        "id": "SI4kmX83YRym",
        "colab_type": "code",
        "colab": {}
      },
      "source": [
        "optimizer = AdamW(get_model_parameters(model), \n",
        "                  lr=LEARNING_RATE, betas=(0.9, 0.999), \n",
        "                  eps =1e-6, weight_decay=0.01, correct_bias=True)\n",
        "lr_scheduler = WarmupLinearSchedule(optimizer, warmup_steps=0.1, \n",
        "                                    t_total=(len(corpus.train) / BATCH_SIZE)*MAX_N_EPOCHS)"
      ],
      "execution_count": 0,
      "outputs": []
    },
    {
      "cell_type": "code",
      "metadata": {
        "id": "9ZhqkvlROL9C",
        "colab_type": "code",
        "outputId": "4590eed4-86ea-4386-e70d-73d1dd2f1fad",
        "colab": {
          "base_uri": "https://localhost:8080/",
          "height": 316
        }
      },
      "source": [
        "trainer = ModelTrainerBert(model=seq_tagger, \n",
        "                           optimizer=optimizer, \n",
        "                           lr_scheduler=lr_scheduler,\n",
        "                           train_dataset=train_dataset, \n",
        "                           val_dataset=val_dataset,\n",
        "                           update_scheduler='es',\n",
        "                           validation_metrics=[f1_entity_level],\n",
        "                           batch_size=BATCH_SIZE)\n",
        "\n",
        "trainer.train(epochs=MAX_N_EPOCHS)"
      ],
      "execution_count": 107,
      "outputs": [
        {
          "output_type": "stream",
          "text": [
            "\rEpoch:   0%|          | 0/4 [00:00<?, ?it/s]"
          ],
          "name": "stderr"
        },
        {
          "output_type": "stream",
          "text": [
            "INFO:sequence_tagger_bert:Current learning rate: 3.74959022818945e-05\n",
            "INFO:sequence_tagger_bert:Train loss: 0.04333878487130632\n",
            "INFO:sequence_tagger_bert:Validation loss: 0.018547681014544626\n",
            "INFO:sequence_tagger_bert:Validation metrics: (0.747334371630526,)\n"
          ],
          "name": "stdout"
        },
        {
          "output_type": "stream",
          "text": [
            "\rEpoch:  25%|██▌       | 1/4 [19:14<57:43, 1154.44s/it]"
          ],
          "name": "stderr"
        },
        {
          "output_type": "stream",
          "text": [
            "INFO:sequence_tagger_bert:Current learning rate: 2.4991329466037638e-05\n",
            "INFO:sequence_tagger_bert:Train loss: 0.017644170739244545\n",
            "INFO:sequence_tagger_bert:Validation loss: 0.008327192969572112\n",
            "INFO:sequence_tagger_bert:Validation metrics: (0.8886273190964632,)\n"
          ],
          "name": "stdout"
        },
        {
          "output_type": "stream",
          "text": [
            "\rEpoch:  50%|█████     | 2/4 [38:32<38:30, 1155.43s/it]"
          ],
          "name": "stderr"
        },
        {
          "output_type": "stream",
          "text": [
            "INFO:sequence_tagger_bert:Current learning rate: 1.2486756650180776e-05\n",
            "INFO:sequence_tagger_bert:Train loss: 0.008455805816446569\n",
            "INFO:sequence_tagger_bert:Validation loss: 0.0038848596508130806\n",
            "INFO:sequence_tagger_bert:Validation metrics: (0.9411634716314016,)\n"
          ],
          "name": "stdout"
        },
        {
          "output_type": "stream",
          "text": [
            "\rEpoch:  75%|███████▌  | 3/4 [57:52<19:16, 1156.81s/it]"
          ],
          "name": "stderr"
        },
        {
          "output_type": "stream",
          "text": [
            "INFO:sequence_tagger_bert:Current learning rate: 0.0\n",
            "INFO:sequence_tagger_bert:Train loss: 0.0035580829734531065\n",
            "INFO:sequence_tagger_bert:Validation loss: 0.0013199315755666936\n",
            "INFO:sequence_tagger_bert:Validation metrics: (0.9794413407821227,)\n"
          ],
          "name": "stdout"
        },
        {
          "output_type": "stream",
          "text": [
            "Epoch: 100%|██████████| 4/4 [1:17:12<00:00, 1158.21s/it]\n"
          ],
          "name": "stderr"
        }
      ]
    },
    {
      "cell_type": "code",
      "metadata": {
        "id": "s4eT3qvdOOW2",
        "colab_type": "code",
        "outputId": "3f638e37-b3ba-4da5-ba0d-029305e469ce",
        "colab": {
          "base_uri": "https://localhost:8080/",
          "height": 52
        }
      },
      "source": [
        "test_dataset = prepare_flair_corpus(corpus.test)\n",
        "\n",
        "_, __, test_metrics = seq_tagger.predict(test_dataset, evaluate=True, \n",
        "                                         metrics=[f1_entity_level, f1_token_level])\n",
        "logger.info(f'Entity-level f1: {test_metrics[1]}')\n",
        "logger.info(f'Token-level f1: {test_metrics[2]}')"
      ],
      "execution_count": 108,
      "outputs": [
        {
          "output_type": "stream",
          "text": [
            "INFO:sequence_tagger_bert:Entity-level f1: 0.9794413407821227\n",
            "INFO:sequence_tagger_bert:Token-level f1: 0.9891479531535404\n"
          ],
          "name": "stdout"
        }
      ]
    },
    {
      "cell_type": "code",
      "metadata": {
        "id": "LdVq5WKjOSDr",
        "colab_type": "code",
        "outputId": "25f412f2-08f7-4b62-e254-980c0f85d635",
        "colab": {
          "base_uri": "https://localhost:8080/",
          "height": 70
        }
      },
      "source": [
        "seq_tagger.predict([['We', 'are', 'living', 'in', 'New', 'York', 'city', '.'],\n",
        "                    ['Satya', 'Narayana', 'Nadella', 'is', 'an', 'engineer', 'and', 'business', 'executive', '.']])"
      ],
      "execution_count": 109,
      "outputs": [
        {
          "output_type": "execute_result",
          "data": {
            "text/plain": [
              "([['O', 'O', 'O', 'O', 'O', 'O', 'O', 'O'],\n",
              "  ['O', 'O', 'O', 'O', 'O', 'O', 'O', 'O', 'O', 'O']],\n",
              " [10.016705, 8.675538])"
            ]
          },
          "metadata": {
            "tags": []
          },
          "execution_count": 109
        }
      ]
    },
    {
      "cell_type": "code",
      "metadata": {
        "id": "hzStYYnJOTgn",
        "colab_type": "code",
        "colab": {}
      },
      "source": [
        "seq_tagger.save_serialize('./bert_model')"
      ],
      "execution_count": 0,
      "outputs": []
    },
    {
      "cell_type": "code",
      "metadata": {
        "id": "vTFmXlrJOWFO",
        "colab_type": "code",
        "colab": {
          "base_uri": "https://localhost:8080/",
          "height": 263
        },
        "outputId": "6b651b5d-403c-43c9-cc39-b83a83f8faf5"
      },
      "source": [
        "check1 = (\"Chikungunya\tvirus\t(\tCHIKV\t)\tis\ta\tmosquito\").split()\n",
        "check = (\"DCTN4\tas\ta\tmodifier\tof\tchronic\tPseudomonas\taeruginosa\tinfection\tin\tcystic\tfibrosis.\").split()\n",
        "print(check)\n",
        "seq_tagger.predict([check])"
      ],
      "execution_count": 119,
      "outputs": [
        {
          "output_type": "stream",
          "text": [
            "['DCTN4', 'as', 'a', 'modifier', 'of', 'chronic', 'Pseudomonas', 'aeruginosa', 'infection', 'in', 'cystic', 'fibrosis.']\n"
          ],
          "name": "stdout"
        },
        {
          "output_type": "execute_result",
          "data": {
            "text/plain": [
              "([['O',\n",
              "   'O',\n",
              "   'O',\n",
              "   'O',\n",
              "   'O',\n",
              "   'T047',\n",
              "   'T047',\n",
              "   'T047',\n",
              "   'T047',\n",
              "   'O',\n",
              "   'T047',\n",
              "   'T047']],\n",
              " [8.894433])"
            ]
          },
          "metadata": {
            "tags": []
          },
          "execution_count": 119
        }
      ]
    },
    {
      "cell_type": "code",
      "metadata": {
        "id": "vNV-72Miiaaq",
        "colab_type": "code",
        "colab": {}
      },
      "source": [
        ""
      ],
      "execution_count": 0,
      "outputs": []
    }
  ]
}