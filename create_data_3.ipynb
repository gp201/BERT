{
  "nbformat": 4,
  "nbformat_minor": 0,
  "metadata": {
    "colab": {
      "name": "create_data-3.ipynb",
      "provenance": [],
      "collapsed_sections": [],
      "machine_shape": "hm",
      "include_colab_link": true
    },
    "kernelspec": {
      "name": "python3",
      "display_name": "Python 3"
    }
  },
  "cells": [
    {
      "cell_type": "markdown",
      "metadata": {
        "id": "view-in-github",
        "colab_type": "text"
      },
      "source": [
        "<a href=\"https://colab.research.google.com/github/gp201/BERT/blob/master/create_data_3.ipynb\" target=\"_parent\"><img src=\"https://colab.research.google.com/assets/colab-badge.svg\" alt=\"Open In Colab\"/></a>"
      ]
    },
    {
      "cell_type": "code",
      "metadata": {
        "id": "psebSWTBADpX",
        "colab_type": "code",
        "colab": {}
      },
      "source": [
        "import re\n",
        "import pandas as pd\n",
        "from csv import writer"
      ],
      "execution_count": 0,
      "outputs": []
    },
    {
      "cell_type": "code",
      "metadata": {
        "id": "oRgoEdv3KL_H",
        "colab_type": "code",
        "outputId": "6799bac7-1b04-425e-9ff1-0eccead17d2a",
        "colab": {
          "base_uri": "https://localhost:8080/",
          "height": 195
        }
      },
      "source": [
        "# tags from corpus\n",
        "tagged_corpus = pd.read_csv(\"corpus_tags.tsv\", sep=\"\\t\", names=[\"pmid\", \"start\", \"end\", \"word\", \"type\", \"umls_id\"])\n",
        "tagged_corpus = tagged_corpus.dropna()\n",
        "tagged_corpus.head()"
      ],
      "execution_count": 137,
      "outputs": [
        {
          "output_type": "execute_result",
          "data": {
            "text/html": [
              "<div>\n",
              "<style scoped>\n",
              "    .dataframe tbody tr th:only-of-type {\n",
              "        vertical-align: middle;\n",
              "    }\n",
              "\n",
              "    .dataframe tbody tr th {\n",
              "        vertical-align: top;\n",
              "    }\n",
              "\n",
              "    .dataframe thead th {\n",
              "        text-align: right;\n",
              "    }\n",
              "</style>\n",
              "<table border=\"1\" class=\"dataframe\">\n",
              "  <thead>\n",
              "    <tr style=\"text-align: right;\">\n",
              "      <th></th>\n",
              "      <th>pmid</th>\n",
              "      <th>start</th>\n",
              "      <th>end</th>\n",
              "      <th>word</th>\n",
              "      <th>type</th>\n",
              "      <th>umls_id</th>\n",
              "    </tr>\n",
              "  </thead>\n",
              "  <tbody>\n",
              "    <tr>\n",
              "      <th>0</th>\n",
              "      <td>25763772</td>\n",
              "      <td>0</td>\n",
              "      <td>5</td>\n",
              "      <td>DCTN4</td>\n",
              "      <td>T116,T123</td>\n",
              "      <td>C4308010</td>\n",
              "    </tr>\n",
              "    <tr>\n",
              "      <th>1</th>\n",
              "      <td>25763772</td>\n",
              "      <td>23</td>\n",
              "      <td>63</td>\n",
              "      <td>chronic Pseudomonas aeruginosa infection</td>\n",
              "      <td>T047</td>\n",
              "      <td>C0854135</td>\n",
              "    </tr>\n",
              "    <tr>\n",
              "      <th>2</th>\n",
              "      <td>25763772</td>\n",
              "      <td>67</td>\n",
              "      <td>82</td>\n",
              "      <td>cystic fibrosis</td>\n",
              "      <td>T047</td>\n",
              "      <td>C0010674</td>\n",
              "    </tr>\n",
              "    <tr>\n",
              "      <th>3</th>\n",
              "      <td>25763772</td>\n",
              "      <td>83</td>\n",
              "      <td>120</td>\n",
              "      <td>Pseudomonas aeruginosa (Pa) infection</td>\n",
              "      <td>T047</td>\n",
              "      <td>C0854135</td>\n",
              "    </tr>\n",
              "    <tr>\n",
              "      <th>4</th>\n",
              "      <td>25763772</td>\n",
              "      <td>124</td>\n",
              "      <td>139</td>\n",
              "      <td>cystic fibrosis</td>\n",
              "      <td>T047</td>\n",
              "      <td>C0010674</td>\n",
              "    </tr>\n",
              "  </tbody>\n",
              "</table>\n",
              "</div>"
            ],
            "text/plain": [
              "       pmid  start  ...       type   umls_id\n",
              "0  25763772      0  ...  T116,T123  C4308010\n",
              "1  25763772     23  ...       T047  C0854135\n",
              "2  25763772     67  ...       T047  C0010674\n",
              "3  25763772     83  ...       T047  C0854135\n",
              "4  25763772    124  ...       T047  C0010674\n",
              "\n",
              "[5 rows x 6 columns]"
            ]
          },
          "metadata": {
            "tags": []
          },
          "execution_count": 137
        }
      ]
    },
    {
      "cell_type": "code",
      "metadata": {
        "id": "OecCyIt4KkT9",
        "colab_type": "code",
        "outputId": "e460dfc4-0368-4543-9a59-5704d211b283",
        "colab": {
          "base_uri": "https://localhost:8080/",
          "height": 34
        }
      },
      "source": [
        "classes = []\n",
        "with open(\"vocab_class.txt\") as ftags:\n",
        "    classes = [i.strip() for i in ftags.readlines()]\n",
        "    ftags.close()\n",
        "classes"
      ],
      "execution_count": 138,
      "outputs": [
        {
          "output_type": "execute_result",
          "data": {
            "text/plain": [
              "['T047', 'T005', 'T007', 'T016']"
            ]
          },
          "metadata": {
            "tags": []
          },
          "execution_count": 138
        }
      ]
    },
    {
      "cell_type": "code",
      "metadata": {
        "id": "5iJKihriJfK4",
        "colab_type": "code",
        "colab": {}
      },
      "source": [
        "def get_words_tags(text, pmid,start=0):\n",
        "    words = []\n",
        "    tags = []  \n",
        "    row_content = []\n",
        "    typ = \"0\"\n",
        "    df = tagged_corpus[(tagged_corpus[\"pmid\"]==int(pmid)) & (tagged_corpus[\"end\"] <= start + len(text)) & (tagged_corpus[\"start\"] >= start)]\n",
        "    indices = df.index.values\n",
        "    for word in text.split():\n",
        "        for i in indices:\n",
        "            text2 = df.loc[i][\"word\"]\n",
        "            #print(\"#\",text2.split())\n",
        "            if word in text2.split() and set(df.loc[i][\"type\"].split(',')).intersection(classes):\n",
        "                typ = df.loc[i][\"type\"]\n",
        "                break\n",
        "            else:\n",
        "                typ = \"0\"\n",
        "        row_content.append([word,typ])\n",
        "    return row_content"
      ],
      "execution_count": 0,
      "outputs": []
    },
    {
      "cell_type": "code",
      "metadata": {
        "id": "CPwb1woU_pCL",
        "colab_type": "code",
        "colab": {}
      },
      "source": [
        "title_regex = re.compile(\"^\\d+\\|t\\|\")\n",
        "abstract_regex = re.compile(\"^\\d+\\|a\\|\")\n",
        "\n",
        "\n",
        "fr = open(\"test.txt\")\n",
        "fw = open(\"labelled_data.txt\", \"w\")"
      ],
      "execution_count": 0,
      "outputs": []
    },
    {
      "cell_type": "code",
      "metadata": {
        "id": "jkwLeoMSdCjw",
        "colab_type": "code",
        "colab": {}
      },
      "source": [
        "def append_list_as_row(file_name, list_of_elem):\n",
        "    # Open file in append mode\n",
        "    with open(file_name, 'a+', newline='') as write_obj:\n",
        "        # Create a writer object from csv module\n",
        "        csv_writer = writer(write_obj)\n",
        "        # Add contents of list as last row in the csv file\n",
        "        for row in list_of_elem:\n",
        "          csv_writer.writerow(row)\n",
        "        blank = ['','']\n",
        "        csv_writer.writerow(blank)"
      ],
      "execution_count": 0,
      "outputs": []
    },
    {
      "cell_type": "code",
      "metadata": {
        "id": "a8f-2ldGJpSg",
        "colab_type": "code",
        "colab": {}
      },
      "source": [
        "abstract_count = 0\n",
        "for i in fr.readlines():\n",
        "    line = i.strip()\n",
        "    title_search = title_regex.search(line)\n",
        "    abstract_search = abstract_regex.search(line)\n",
        "    if title_search:\n",
        "        title_line = title_regex.sub('',line)\n",
        "    elif abstract_search:\n",
        "        abstract = abstract_regex.sub('',line)\n",
        "        pmid = int(abstract_search.group(0)[:-3])\n",
        "        row_check = get_words_tags(title_line,pmid,0)\n",
        "        fw.write(\"\\t\".join(words)+\"\\n\")\n",
        "        fw.write(\"\\t\".join(tags)+\"\\n\")\n",
        "        title_size = len(title_line) + 1                     # 1 for \\n        \n",
        "        for sentence in re.split(\"\\.\", abstract):\n",
        "            if len(sentence) == 0:\n",
        "                continue\n",
        "            _size = abstract.index(sentence) + title_size\n",
        "            row_content = get_words_tags(sentence, pmid)\n",
        "            append_list_as_row('data-3.csv', row_content)\n",
        "        abstract_count += 1\n",
        "        if abstract_count%10 == 0:\n",
        "            print(\"PMID {} written to file. Abstract Count: {}\".format(pmid, abstract_count))\n",
        "fw.close()\n",
        "fr.close()"
      ],
      "execution_count": 0,
      "outputs": []
    }
  ]
}